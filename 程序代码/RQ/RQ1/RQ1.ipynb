{
 "cells": [
  {
   "cell_type": "code",
   "execution_count": 124,
   "metadata": {},
   "outputs": [
    {
     "data": {
      "text/plain": [
       "\"\\ncode_contract = pd.read_csv('/home/yfliu/oldFolder/16w_contract_v2.csv')\\nsnippet_contract = pd.read_csv('/home/yfliu/oldFolder/snippet_contract_v2.csv').drop_duplicates(['dealed_code'])\\ncode_function = pd.read_csv('/home/yfliu/paper/trash/temp_csv/16w_function_v2.csv')\\nsnippet_function = pd.read_csv('/home/yfliu/oldFolder/snippet_function_v2.csv').drop_duplicates(['dealed_code'])\""
      ]
     },
     "execution_count": 124,
     "metadata": {},
     "output_type": "execute_result"
    }
   ],
   "source": [
    "import os\n",
    "import pandas as pd\n",
    "import random\n",
    "import matplotlib.pyplot as plt\n",
    "import numpy as np\n",
    "#统计人工检测结果\n",
    "rootDir = '/home/yfliu/manual_inspection/'\n",
    "conPathList = ['/home/yfliu/manual_inspection/after/segment_0.8.csv','/home/yfliu/manual_inspection/after/segment_0.9.csv']\n",
    "funPathList = ['/home/yfliu/manual_inspection/after_function/segment_0.8.csv','/home/yfliu/manual_inspection/after_function/segment_0.9.csv']\n",
    "'''\n",
    "code_contract = pd.read_csv('/home/yfliu/oldFolder/16w_contract_v2.csv')\n",
    "snippet_contract = pd.read_csv('/home/yfliu/oldFolder/snippet_contract_v2.csv').drop_duplicates(['dealed_code'])\n",
    "code_function = pd.read_csv('/home/yfliu/paper/trash/temp_csv/16w_function_v2.csv')\n",
    "snippet_function = pd.read_csv('/home/yfliu/oldFolder/snippet_function_v2.csv').drop_duplicates(['dealed_code'])'''"
   ]
  },
  {
   "cell_type": "code",
   "execution_count": 134,
   "metadata": {},
   "outputs": [],
   "source": [
    "con8 = pd.read_csv(funPathList[0]).sample(50)\n",
    "con9 = pd.read_csv(funPathList[1]).sample(50) \n",
    "con = con9.append(con8).sort_values(by=\"bleu\" , ascending=True) "
   ]
  },
  {
   "cell_type": "code",
   "execution_count": 131,
   "metadata": {
    "scrolled": true
   },
   "outputs": [],
   "source": [
    "con8 = pd.read_csv(conPathList[0]).sample(100) \n",
    "del con8['wonder']\n",
    "con9 = pd.read_csv(conPathList[1]).sample(100) \n",
    "del con9['Unnamed: 4']\n",
    "con = con9.append(con8).sort_values(by=\"bleu\" , ascending=True) "
   ]
  },
  {
   "cell_type": "code",
   "execution_count": 126,
   "metadata": {
    "scrolled": true
   },
   "outputs": [
    {
     "name": "stdout",
     "output_type": "stream",
     "text": [
      "0.83\n",
      "0.75\n",
      "0.08\n",
      "----\n",
      "0.61\n",
      "0.61\n",
      "0.0\n",
      "----\n",
      "0.72\n",
      "0.68\n",
      "0.04\n"
     ]
    }
   ],
   "source": [
    "def getCount(manRes):\n",
    "    total = manRes[manRes['check'].apply(lambda x : x < 2)]\n",
    "    type2 = manRes[manRes['check'].apply(lambda x : x >= 1 and x < 2)]\n",
    "    type1 = manRes[manRes['check'].apply(lambda x : x < 1)]\n",
    "    print(len(total) / len(manRes))#所有满足条件\n",
    "    print(len(type2) / len(manRes))#类型2\n",
    "    print(len(type1) / len(manRes))#类型1\n",
    "    return total\n",
    "#con9 = con9.sample(100)   \n",
    "getCount(con9)\n",
    "print('----')\n",
    "#con8 = con8.sample(100)   \n",
    "getCount(con8)\n",
    "print('----')\n",
    "count = getCount(con8.append(con9))"
   ]
  },
  {
   "cell_type": "code",
   "execution_count": 127,
   "metadata": {},
   "outputs": [],
   "source": [
    "#count.to_csv('/home/yfliu/paper_data/RQ/RQ1/funCount.csv',index = False)\n",
    "count.to_csv('/home/yfliu/paper_data/RQ/RQ1/conCount.csv',index = False)"
   ]
  },
  {
   "cell_type": "code",
   "execution_count": 82,
   "metadata": {},
   "outputs": [
    {
     "data": {
      "text/plain": [
       "[<matplotlib.lines.Line2D at 0x7f51f3e87828>]"
      ]
     },
     "execution_count": 82,
     "metadata": {},
     "output_type": "execute_result"
    },
    {
     "data": {
      "image/png": "[encoded data removed]",
      "text/plain": [
       "<Figure size 432x288 with 1 Axes>"
      ]
     },
     "metadata": {
      "needs_background": "light"
     },
     "output_type": "display_data"
    }
   ],
   "source": [
    "'''\n",
    "l = []\n",
    "for idx in range(len(xRange) - 1):\n",
    "    xrange = [xRange[idx], xRange[idx + 1]]\n",
    "    temp = con[con['bleu'].apply(lambda x : x >= xrange[0] and x < xrange[1])]\n",
    "   \n",
    "    l.append(len(temp[temp['check'].apply(lambda x : x < 2)]))\n",
    "    xRange = list(np.arange(0.8,1,0.01))\n",
    "xRange.append(1)x = list(np.arange(0.8,1,0.01))\n",
    "plt.plot(x, l)\n",
    "\n",
    "def barr(keys,values):\n",
    "    fig = plt.figure(figsize=(8,4))\n",
    "    plt.bar(keys, values)\n",
    "    for a,b in zip(keys,values):\n",
    "        plt.text(a, b+0.01, '%.0f' % b, ha='center', va= 'bottom')\n",
    "    plt.xticks()\n",
    "    plt.xlabel(\"Distribution of contract duplication\")\n",
    "    plt.ylabel(\"Contract count\")\n",
    "    plt.show()\n",
    "num_count = [103,34,23,18,9,7,8,9,4,418]\n",
    "barr(xRange,l)'''"
   ]
  }
 ],
 "metadata": {
  "kernelspec": {
   "display_name": "Python 3",
   "language": "python",
   "name": "python3"
  },
  "language_info": {
   "codemirror_mode": {
    "name": "ipython",
    "version": 3
   },
   "file_extension": ".py",
   "mimetype": "text/x-python",
   "name": "python",
   "nbconvert_exporter": "python",
   "pygments_lexer": "ipython3",
   "version": "3.6.10"
  }
 },
 "nbformat": 4,
 "nbformat_minor": 4
}
