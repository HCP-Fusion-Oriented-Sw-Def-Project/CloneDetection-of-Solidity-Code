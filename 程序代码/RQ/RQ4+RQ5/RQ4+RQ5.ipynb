{
 "cells": [
  {
   "cell_type": "code",
   "execution_count": 1,
   "metadata": {},
   "outputs": [],
   "source": [
    "from nltk.translate.bleu_score import sentence_bleu, corpus_bleu,SmoothingFunction\n",
    "import pandas as pd\n",
    "import numpy as np\n",
    "import docker\n",
    "import os\n",
    "import re\n",
    "import random\n",
    "from string import punctuation\n",
    "import json\n",
    "import matplotlib.pyplot as plt\n",
    "punc = punctuation\n",
    "smooth = SmoothingFunction()"
   ]
  },
  {
   "cell_type": "code",
   "execution_count": 2,
   "metadata": {},
   "outputs": [],
   "source": [
    "conAst = pd.read_csv('/home/yfliu/paper_data/astResultCsv/contractRes.csv')"
   ]
  },
  {
   "cell_type": "code",
   "execution_count": 12,
   "metadata": {},
   "outputs": [
    {
     "name": "stdout",
     "output_type": "stream",
     "text": [
      "{'address': 2391, 'code': 'urn c;\\n    }\\n}', 'debug': 'The exception is triggered under the following conditions:\\n\\nstorage_4: 0xaffffffffffffbfffffffffffffffffc00000000000000000000000000000300\\ntimestamp: 0xffffffffffffffffffffffffffffffffffffffffffffffffffffffffffffffff\\ncallvalue: 0x3fffffffffffffffffffffffffffffffffffffffffffffffffffffffffffe\\nstorage_5: 0xff00\\nstorage_2: 0xffffffffffffffffffffffffffffffffffffffffffffffffffffffffffffffff\\nstorage_1: 0xffffffffffffffffffffffffffffffffffffffffffffffffffffffffffffffff\\ncaller: 0xffffffffffffffffffffffffffffffffffffffff\\ncalldatasize_StupidToken: 0x3\\n', 'description': 'A reachable exception (opcode 0xfe) has been detected. This can be caused by type errors, division by zero, out-of-bounds array access, or assert violations. This is acceptable in most situations. Note however that `assert()` should only be used to check invariants. Use `require()` for regular input checking. ', 'filename': '//home/yfliu/data_sol/0x002842529757eab873cce9c251087e1b993f9200.sol', 'function': 'fallback', 'lineno': 29, 'title': 'Exception state', 'type': 'Informational'}\n"
     ]
    }
   ],
   "source": []
  }
 ],
 "metadata": {
  "kernelspec": {
   "display_name": "Python 3",
   "language": "python",
   "name": "python3"
  },
  "language_info": {
   "codemirror_mode": {
    "name": "ipython",
    "version": 3
   },
   "file_extension": ".py",
   "mimetype": "text/x-python",
   "name": "python",
   "nbconvert_exporter": "python",
   "pygments_lexer": "ipython3",
   "version": "3.6.10"
  }
 },
 "nbformat": 4,
 "nbformat_minor": 4
}
