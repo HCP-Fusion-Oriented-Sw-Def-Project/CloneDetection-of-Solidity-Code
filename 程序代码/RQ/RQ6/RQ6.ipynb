{
 "cells": [
  {
   "cell_type": "code",
   "execution_count": 1,
   "metadata": {},
   "outputs": [],
   "source": [
    "from nltk.translate.bleu_score import sentence_bleu, corpus_bleu,SmoothingFunction\n",
    "import pandas as pd\n",
    "import numpy as np\n",
    "import docker\n",
    "import os\n",
    "import re\n",
    "import random\n",
    "from string import punctuation\n",
    "import json\n",
    "import matplotlib.pyplot as plt\n",
    "punc = punctuation\n",
    "smooth = SmoothingFunction()"
   ]
  },
  {
   "cell_type": "code",
   "execution_count": 2,
   "metadata": {},
   "outputs": [],
   "source": [
    "def patternDeal(sol, num):\n",
    "    if num == 6:\n",
    "        return [ \n",
    "                {\n",
    "                    'itemName' : item.split(':')[0],\n",
    "                    'rows' : [ i.strip() for i in item.split(':')[1].split(',') ]\n",
    "                      }  for item in sol[1:] if ':' in item and 'uint' in item.split(':')[0] and 'uint256' not in item.split(':')[0]\n",
    "                ]\n",
    "    return [ \n",
    "                {\n",
    "                    'itemName' : item.split(':')[0],\n",
    "                    'rows' : [ i.strip() for i in item.split(':')[1].split(',') ]\n",
    "                      }  for item in sol[1:] if ':' in item \n",
    "                ]\n",
    "\n",
    "#将结果分割，需要不同的split字符串\n",
    "def getGasResList(address, num):\n",
    "    pat = open(address,'r').read()\n",
    "    patList = re.split('\\n[0-9]+ : ', pat)#\n",
    "    ans = {}\n",
    "    for sol in patList:\n",
    "        if 'success' not in sol:\n",
    "            continue\n",
    "        sol = sol.split('\\n')\n",
    "        sol = sol[:-1]\n",
    "        if sol[0] in ans.keys():\n",
    "            ans[sol[0]] += patternDeal(sol, num)\n",
    "        else:\n",
    "            ans[sol[0]] = patternDeal(sol, num)\n",
    "    return ans\n",
    "\n",
    "#匹配gasPattern与克隆对的范围\n",
    "def matchRange(item, contract_line):\n",
    "    return int(item['rows'][0].strip()) >= eval(contract_line)[0] and int(item['rows'][1].strip()) <= eval(contract_line)[1]\n",
    "\n",
    "#当克隆对合约在patList内，并且范围正确，旧获得\n",
    "def compareRange(pat, contract_line, name):\n",
    "\n",
    "    return  [\n",
    "        item['rows'] for item in pat[name] if matchRange(item, contract_line)\n",
    "    ] if name in pat.keys() else None\n",
    "\n",
    "#将gas结果加到bb内\n",
    "def GasAppendByRange(bb,pat,num):\n",
    "    bb['pattern{}'.format(num)] = [ compareRange(pat, item[1]['contract_line'], item[1]['code_name'].split('.')[0]) for item in bb.iterrows() ]\n",
    "\n",
    "def runGasPattern(patNum, rootAddress, bb):\n",
    "    for num in patNum:\n",
    "    #切割\n",
    "        pat = getGasResList(os.path.join(rootAddress,'gasDetectResult{}.txt').format(num), num)\n",
    "        GasAppendByRange(bb, pat, num)\n",
    "        \n",
    "#多种结果mapping到十种情况中\n",
    "head = [' access_control ',\n",
    " ' arithmetic ',\n",
    " ' denial_service ',\n",
    " ' reentrancy ',\n",
    " ' unchecked_low_calls ',\n",
    " ' bad_randomness ',\n",
    " ' front_running ',\n",
    " ' time_manipulation ',\n",
    " ' short_addresses ',\n",
    " ' Other ',\n",
    " ' Ignore ']\n",
    "dic = dict(zip(head,[0]*10))\n",
    "mapping = open('/home/yfliu/mapping.json').read()\n",
    "mapp = json.loads(mapping)\n",
    "#重要程度\n",
    "\n",
    "slither_map = mapp['slither']\n",
    "slither_key = slither_map.keys()\n",
    "slither_type_map = dict(zip(slither_key,[0]*len(slither_key)))\n",
    "u = open('/home/yfliu/paper/trash/temp.txt').read()\n",
    "for i in u.splitlines():\n",
    "    sp = i.split()\n",
    "    slither_type_map[sp[1]] = sp[-2]\n",
    "slither_type_map\n",
    "slither_type_map['constant-function'] = 'Medium'\n",
    "slither_bug_patch = ['constable-states','erc20-indexed','erc20-interface','external-function','incorrect-equality','naming-convention','shadowing-local','shadowing-state','shadowing-builtin','shadowing-abstract']\n",
    "\n",
    "def smallerRange(oldNum, lineNum):\n",
    "    if len(oldNum) < 1 or len(lineNum) < 1:\n",
    "        print('great error')\n",
    "        return False\n",
    "    #print(oldNum)\n",
    "    #print(lineNum)\n",
    "    oldStart = oldNum[0]\n",
    "    oldEnd = oldNum[-2]\n",
    "    lineStart = lineNum[0]\n",
    "    lineEnd = lineNum[-2]\n",
    "    return lineStart >= oldStart and lineEnd <= oldEnd\n",
    "def updateMap(res, title, lineNum,reuse):\n",
    "    #lineNum = [lineNum] if type(lineNum) == int else lineNum\n",
    "    if type(lineNum) == int:\n",
    "        lineNum = [lineNum,reuse]\n",
    "    else:\n",
    "        lineNum.append(reuse)\n",
    "    lineOldNum = res[title]\n",
    "    for oldNum in lineOldNum:\n",
    "        #print(oldNum)\n",
    "        if smallerRange(oldNum, lineNum):\n",
    "            return\n",
    "    res[title].append(lineNum)\n",
    "    \n",
    "def subDict(dict1, dict2):\n",
    "    res = {}\n",
    "    for item in dict1.keys():\n",
    "        if item not in dict2.keys():\n",
    "            res[item] = dict1[item]\n",
    "        elif dict1[item] - dict2[item] > 0:\n",
    "            res[item] = dict1[item] - dict2[item]\n",
    "    return res\n",
    "    \n",
    "def getCount(mapRes):\n",
    "    resCount = {}\n",
    "    for item in mapRes:\n",
    "        if len(item) > 0:\n",
    "            for bugName in item.keys():\n",
    "                count = 0\n",
    "                for i in item[bugName]:\n",
    "                    count += int(i[-1])\n",
    "                if bugName in resCount.keys():\n",
    "                    resCount[bugName] += count\n",
    "                else:\n",
    "                    resCount[bugName] = count\n",
    "    return resCount\n",
    "toolNames = ['mythril_analysis_not_info','osiris_analysis','slither_analysis_not_info']\n",
    "#toolNames = ['mythril_analysis_not_info','osiris_analysis']\n",
    "#toolNames = ['mythril_analysis_not_info']\n",
    "def get(cc, toolNames):\n",
    "    mapRes = []\n",
    "    for index,row in cc.iterrows():\n",
    "        #同行算消除\n",
    "        res = {}\n",
    "        #print(row)\n",
    "        reuse = int(row['reuse'])\n",
    "        for toolName in toolNames:\n",
    "            toolRes = row[toolName]\n",
    "            for tRes in toolRes:\n",
    "                #print(tRes)\n",
    "                #tRes = eval(tRes)\n",
    "                lineNum = tRes['lineno']\n",
    "                title = mapp[toolName.split('_')[0]][tRes['title'].strip()]#已经转换过\n",
    "                if title in res.keys():\n",
    "                    updateMap(res, title, lineNum,reuse)\n",
    "                else:\n",
    "                    if type(lineNum) == int:\n",
    "                        res[title] = [[lineNum,reuse]]\n",
    "                    else:\n",
    "                        lineNum.append(reuse)\n",
    "                        res[title] = [lineNum]\n",
    "                    #res[title] = [[lineNum,reuse] if type(lineNum) == int else lineNum.append(reuse)]#使用lineNum--list的len计算数量 [[],[]]\n",
    "            #temp = [res]\n",
    "            #print(getCount(temp))\n",
    "        mapRes.append(res)\n",
    "        #print(mapRes)\n",
    "    resCount =  getCount(mapRes)\n",
    "    return resCount\n",
    "\n",
    "def countBugRes(data):\n",
    "    print('mythril: {}'.format( get(data, ['mythril_analysis_not_info']) ))\n",
    "    print('osiris: {}'.format(subDict(get(data, ['mythril_analysis_not_info','osiris_analysis']), get(data, ['mythril_analysis_not_info']))))\n",
    "    print('slither: {}'.format( subDict(get(data, ['mythril_analysis_not_info','osiris_analysis','slither_analysis_not_info']), get(data, ['mythril_analysis_not_info','osiris_analysis'])) ))\n",
    "    print('total:',end=' ')\n",
    "    total = get(data, ['mythril_analysis_not_info','osiris_analysis','slither_analysis_not_info'])\n",
    "    count = 0\n",
    "    for item in total:\n",
    "        count += total[item]\n",
    "    print(total)\n",
    "    print(count)"
   ]
  },
  {
   "cell_type": "code",
   "execution_count": 3,
   "metadata": {},
   "outputs": [],
   "source": [
    "dataAddr = '/home/yfliu/paper_data/astResultCsv/contractResBleuGas.pic'"
   ]
  },
  {
   "cell_type": "code",
   "execution_count": 92,
   "metadata": {},
   "outputs": [],
   "source": [
    "conAst = pd.read_pickle('/home/yfliu/paper_data/astResultCsv/contractRes_v2.pic')\n",
    "funAst = pd.read_pickle('/home/yfliu/paper_data/astResultCsv/functionRes_v2.pic')\n",
    "def temp(name,data):\n",
    "    return data[data[name].apply(lambda x : x != None and len(x) > 0)]\n",
    "con = temp('slither_analysis_not_info', conAst).append(temp('mythril_analysis_not_info', conAst)).append(temp('osiris_analysis', conAst))\n",
    "conG = temp('pattern1', conAst).append(temp('pattern2', conAst)).append(temp('pattern3', conAst)).append(temp('pattern4', conAst)).append(temp('pattern6', conAst)).append(temp('pattern7', conAst))\n",
    "#fun = temp('slither_analysis_not_info', funAst).append(temp('mythril_analysis_not_info', funAst)).append( temp('osiris_analysis', funAst))\n",
    "#funG = temp('pattern1', funAst).append( temp('pattern2', funAst) ).append( temp('pattern3', funAst)).append( temp('pattern4', funAst)).append( temp('pattern6', funAst)).append( temp('pattern7', funAst))\n"
   ]
  },
  {
   "cell_type": "code",
   "execution_count": 94,
   "metadata": {},
   "outputs": [],
   "source": [
    "con['conName'] = con['contract_code'].apply(lambda x : x.split(' ')[1].split('{')[0].split('\\n')[0])\n",
    "conG['conName'] = conG['contract_code'].apply(lambda x : x.split(' ')[1].split('{')[0].split('\\n')[0])"
   ]
  },
  {
   "cell_type": "code",
   "execution_count": 96,
   "metadata": {},
   "outputs": [
    {
     "data": {
      "text/plain": [
       "28317"
      ]
     },
     "execution_count": 96,
     "metadata": {},
     "output_type": "execute_result"
    }
   ],
   "source": [
    "reuses = reuseRes.merge(conG,on=['name','conName'],how='inner')\n",
    "#查找开源合约的扩散\n",
    "ans = []\n",
    "for item in list(reuses.drop_duplicates('id')['id']):\n",
    "    #print(item,end = ' ')\n",
    "    temp = list(reuseRes[reuseRes['id'] == item]['name'].drop_duplicates())\n",
    "    #print(len(temp))\n",
    "    ans += temp\n",
    "len(set(ans))"
   ]
  },
  {
   "cell_type": "code",
   "execution_count": 95,
   "metadata": {},
   "outputs": [
    {
     "data": {
      "text/plain": [
       "11903"
      ]
     },
     "execution_count": 95,
     "metadata": {},
     "output_type": "execute_result"
    }
   ],
   "source": [
    "reuses = reuseRes.merge(con,on=['name','conName'],how='inner')\n",
    "#查找开源合约的扩散\n",
    "ans = []\n",
    "for item in list(reuses.drop_duplicates('id')['id']):\n",
    "    #print(item,end = ' ')\n",
    "    temp = list(reuseRes[reuseRes['id'] == item]['name'].drop_duplicates())\n",
    "    #print(len(temp))\n",
    "    ans += temp\n",
    "len(set(ans))"
   ]
  },
  {
   "cell_type": "code",
   "execution_count": 11,
   "metadata": {
    "scrolled": false
   },
   "outputs": [],
   "source": [
    "reuses = reuseRes.merge(data,on=['name','conName'],how='inner')\n",
    "#查找开源合约的扩散\n",
    "ans = []\n",
    "for item in list(reuses.drop_duplicates('id')['id']):\n",
    "    #print(item,end = ' ')\n",
    "    temp = list(reuseRes[reuseRes['id'] == item]['name'].drop_duplicates())\n",
    "    #print(len(temp))\n",
    "    ans += temp\n",
    "len(set(ans))\n",
    "#ans\n",
    "#reuses.drop_duplicates('id')"
   ]
  },
  {
   "cell_type": "code",
   "execution_count": null,
   "metadata": {},
   "outputs": [],
   "source": [
    "#所有包含漏洞"
   ]
  },
  {
   "cell_type": "code",
   "execution_count": 72,
   "metadata": {},
   "outputs": [
    {
     "data": {
      "text/plain": [
       "98980"
      ]
     },
     "execution_count": 72,
     "metadata": {},
     "output_type": "execute_result"
    }
   ],
   "source": [
    "#所有代码片段"
   ]
  },
  {
   "cell_type": "code",
   "execution_count": 24,
   "metadata": {},
   "outputs": [],
   "source": [
    "qwe = 0\n",
    "for item in list(reuses['reuse'].apply(lambda x: eval(x))):\n",
    "    qwe += item"
   ]
  },
  {
   "cell_type": "code",
   "execution_count": 4,
   "metadata": {},
   "outputs": [
    {
     "name": "stdout",
     "output_type": "stream",
     "text": [
      "mythril: {' access_control ': 8, ' front_running ': 59, ' reentrancy ': 1053, ' arithmetic ': 3895, ' Other ': 17}\n",
      "osiris: {' arithmetic ': 46183, ' reentrancy ': 3, ' Ignore ': 135, ' denial_service ': 10, ' time_manipulation ': 13}\n",
      "slither: {' access_control ': 35, ' reentrancy ': 48, ' unchecked_low_calls ': 205, ' denial_service ': 781, ' time_manipulation ': 8, ' Other ': 7}\n",
      "total: {' arithmetic ': 50078, ' access_control ': 43, ' front_running ': 59, ' reentrancy ': 1100, ' unchecked_low_calls ': 188, ' Ignore ': 135, ' denial_service ': 431, ' time_manipulation ': 17, ' Other ': 23}\n",
      "52074\n",
      "1 31203\n",
      "6 29747\n",
      "2 24\n",
      "3 21\n",
      "4 17487\n",
      "7 45\n"
     ]
    },
    {
     "data": {
      "image/png": "[encoded data removed]",
      "text/plain": [
       "<Figure size 576x288 with 1 Axes>"
      ]
     },
     "metadata": {
      "needs_background": "light"
     },
     "output_type": "display_data"
    }
   ],
   "source": [
    "data = pd.read_pickle(dataAddr)\n",
    "data['conName'] = data['contract_code'].apply(lambda x : x.split(' ')[1].split('{')[0].split('\\n')[0])\n",
    "\n",
    "reuseRes = pd.read_pickle('/home/yfliu/paper_data/proliData/proliData.pic')\n",
    "temp = reuseRes.merge(data,on=['name','conName'],how='right')\n",
    "temp['reuse'] = temp['reuse'].apply(lambda x : int(x) if type(x) != float else 1)\n",
    "\n",
    "#bug\n",
    "countBugRes(temp)\n",
    "\n",
    "#gas\n",
    "patNum = [1,6,2,3,4,7]\n",
    "for item in patNum:\n",
    "    print(item,end=' ')\n",
    "    count = 0\n",
    "    for idx,row in temp.iterrows():\n",
    "        reuse = row['reuse']\n",
    "        pat = row['pattern{}'.format(item)]\n",
    "        if pat != None and len(pat) > 0:\n",
    "            count += reuse\n",
    "    print(count)\n",
    "\n",
    "#make picture\n",
    "countTemp = temp.drop_duplicates(['name','conName'])\n",
    "\n",
    "def count_reuse(new_df,num):\n",
    "    return len(new_df[new_df['reuse'] == num])\n",
    "def count_out_reuse(new_df,num):\n",
    "    return len(new_df[new_df['reuse'] >= num])\n",
    "num_count = []\n",
    "for i in range(1,10):\n",
    "    num_count.append(count_reuse(countTemp,i))\n",
    "num_count.append(count_out_reuse(countTemp,10))\n",
    "num_count\n",
    "\n",
    "\n",
    "def barr(keys,values):\n",
    "    fig = plt.figure(figsize=(8,4))\n",
    "    plt.bar(keys, values)\n",
    "    for a,b in zip(keys,values):\n",
    "        plt.text(a, b+0.01, '%.0f' % b, ha='center', va= 'bottom')\n",
    "    plt.xticks()\n",
    "    #plt.xlabel(\"Distribution of contract duplication\")\n",
    "    #plt.ylabel(\"Contract count\")\n",
    "    plt.show()\n",
    "#num_count = num_count\n",
    "barr(['1','2','3','4','5','6','7','8','9','10+'],num_count)"
   ]
  },
  {
   "cell_type": "code",
   "execution_count": 5,
   "metadata": {},
   "outputs": [
    {
     "data": {
      "text/plain": [
       "\"#生成重用的csv\\nidList = open('/home/yfliu/paper_data/proliData/ids_for_each_contract.txt').read().split('\\n')[:-1]\\nreuseList = open('/home/yfliu/paper_data/proliData/normalized_tokens_deduplicated.txt').read().split('\\n')[:-1]\\nidList = pd.Series(idList)\\nidList = pd.DataFrame({\\n    'name': idList.apply(lambda x : x.split(',')[0]),\\n    'conName': idList.apply(lambda x : x.split(',')[1]),\\n    'id': idList.apply(lambda x : x.split(',')[2])\\n}) \\nreuseList = pd.Series(reuseList)\\nreuseList = pd.DataFrame({\\n    'id': reuseList.apply(lambda x : x.split(',')[0]),\\n    'reuse': reuseList.apply(lambda x : x.split(',')[1])\\n}) \\nreuseList\\nreuseRes = idList.merge(reuseList,on='id',how='left')\\nreuseRes.to_pickle('/home/yfliu/paper_data/proliData/proliData.pic')\""
      ]
     },
     "execution_count": 5,
     "metadata": {},
     "output_type": "execute_result"
    }
   ],
   "source": [
    "'''#生成重用的csv\n",
    "idList = open('/home/yfliu/paper_data/proliData/ids_for_each_contract.txt').read().split('\\n')[:-1]\n",
    "reuseList = open('/home/yfliu/paper_data/proliData/normalized_tokens_deduplicated.txt').read().split('\\n')[:-1]\n",
    "idList = pd.Series(idList)\n",
    "idList = pd.DataFrame({\n",
    "    'name': idList.apply(lambda x : x.split(',')[0]),\n",
    "    'conName': idList.apply(lambda x : x.split(',')[1]),\n",
    "    'id': idList.apply(lambda x : x.split(',')[2])\n",
    "}) \n",
    "reuseList = pd.Series(reuseList)\n",
    "reuseList = pd.DataFrame({\n",
    "    'id': reuseList.apply(lambda x : x.split(',')[0]),\n",
    "    'reuse': reuseList.apply(lambda x : x.split(',')[1])\n",
    "}) \n",
    "reuseList\n",
    "reuseRes = idList.merge(reuseList,on='id',how='left')\n",
    "reuseRes.to_pickle('/home/yfliu/paper_data/proliData/proliData.pic')'''"
   ]
  }
 ],
 "metadata": {
  "kernelspec": {
   "display_name": "Python 3",
   "language": "python",
   "name": "python3"
  },
  "language_info": {
   "codemirror_mode": {
    "name": "ipython",
    "version": 3
   },
   "file_extension": ".py",
   "mimetype": "text/x-python",
   "name": "python",
   "nbconvert_exporter": "python",
   "pygments_lexer": "ipython3",
   "version": "3.6.10"
  }
 },
 "nbformat": 4,
 "nbformat_minor": 4
}
