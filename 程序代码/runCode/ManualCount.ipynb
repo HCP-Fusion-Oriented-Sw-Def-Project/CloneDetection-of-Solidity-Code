{
 "cells": [
  {
   "cell_type": "code",
   "execution_count": 24,
   "metadata": {},
   "outputs": [],
   "source": [
    "import os\n",
    "import pandas as pd"
   ]
  },
  {
   "cell_type": "code",
   "execution_count": 21,
   "metadata": {},
   "outputs": [],
   "source": [
    "#统计人工检测结果\n",
    "rootDir = '/home/yfliu/manual_inspection/'\n",
    "conPathList = ['/home/yfliu/manual_inspection/after/segment_0.7.csv','/home/yfliu/manual_inspection/after/segment_0.8.csv','/home/yfliu/manual_inspection/after/segment_0.9.csv']\n",
    "funPathList = ['/home/yfliu/manual_inspection/after_function/segment_0.8.csv','/home/yfliu/manual_inspection/after_function/segment_0.9.csv']\n",
    "#code_contract = pd.read_csv('/home/yfliu/paper/trash/temp_csv/16w_contract_v2.csv')\n",
    "#snippet_contract = pd.read_csv('/home/yfliu/paper/trash/temp_csv/snippet_contract_v2.csv').drop_duplicates(['dealed_code'])"
   ]
  },
  {
   "cell_type": "code",
   "execution_count": 22,
   "metadata": {},
   "outputs": [],
   "source": [
    "def check(addr):\n",
    "    data = pd.read_csv(addr)\n",
    "    #print(len(data[data['check'].apply(lambda x :x == 0)]))\n",
    "    print(len(data[data['check'].apply(lambda x :x < 1)]))\n",
    "    print(len(data[data['check'].apply(lambda x :1 <= x <= 2)]))"
   ]
  },
  {
   "cell_type": "code",
   "execution_count": 23,
   "metadata": {},
   "outputs": [
    {
     "name": "stdout",
     "output_type": "stream",
     "text": [
      "0\n",
      "69\n",
      "---\n",
      "0\n",
      "213\n",
      "---\n",
      "43\n",
      "325\n",
      "---\n",
      "17\n",
      "47\n",
      "---\n",
      "45\n",
      "9\n",
      "---\n"
     ]
    }
   ],
   "source": [
    "for l in [conPathList,funPathList]:\n",
    "    for i in l:\n",
    "        check(i)\n",
    "        print('---')"
   ]
  },
  {
   "cell_type": "code",
   "execution_count": 10,
   "metadata": {},
   "outputs": [
    {
     "ename": "NameError",
     "evalue": "name 'code_contract' is not defined",
     "output_type": "error",
     "traceback": [
      "\u001b[0;31m---------------------------------------------------------------------------\u001b[0m",
      "\u001b[0;31mNameError\u001b[0m                                 Traceback (most recent call last)",
      "\u001b[0;32m<ipython-input-10-a571fd4cfda2>\u001b[0m in \u001b[0;36m<module>\u001b[0;34m\u001b[0m\n\u001b[1;32m     14\u001b[0m \u001b[0;31m#con\u001b[0m\u001b[0;34m\u001b[0m\u001b[0;34m\u001b[0m\u001b[0;34m\u001b[0m\u001b[0m\n\u001b[1;32m     15\u001b[0m \u001b[0mconRes\u001b[0m \u001b[0;34m=\u001b[0m \u001b[0mgetCount\u001b[0m\u001b[0;34m(\u001b[0m\u001b[0mconPathList\u001b[0m\u001b[0;34m,\u001b[0m \u001b[0mrootDir\u001b[0m\u001b[0;34m)\u001b[0m\u001b[0;34m\u001b[0m\u001b[0;34m\u001b[0m\u001b[0m\n\u001b[0;32m---> 16\u001b[0;31m \u001b[0mcodeCode\u001b[0m \u001b[0;34m=\u001b[0m \u001b[0mcode_contract\u001b[0m\u001b[0;34m[\u001b[0m\u001b[0;34m'code'\u001b[0m\u001b[0;34m]\u001b[0m\u001b[0;34m\u001b[0m\u001b[0;34m\u001b[0m\u001b[0m\n\u001b[0m\u001b[1;32m     17\u001b[0m \u001b[0msoCode\u001b[0m \u001b[0;34m=\u001b[0m \u001b[0msnippet_contract\u001b[0m\u001b[0;34m[\u001b[0m\u001b[0;34m'code'\u001b[0m\u001b[0;34m]\u001b[0m\u001b[0;34m\u001b[0m\u001b[0;34m\u001b[0m\u001b[0m\n\u001b[1;32m     18\u001b[0m \u001b[0mconIdxList\u001b[0m \u001b[0;34m=\u001b[0m \u001b[0;34m[\u001b[0m\u001b[0;34m]\u001b[0m\u001b[0;34m\u001b[0m\u001b[0;34m\u001b[0m\u001b[0m\n",
      "\u001b[0;31mNameError\u001b[0m: name 'code_contract' is not defined"
     ]
    }
   ],
   "source": [
    "def getCount(pathList, rootDir):\n",
    "    res = None\n",
    "    for name in pathList:\n",
    "        path = os.path.join(rootDir, name)\n",
    "        manualCsv = pd.read_csv(path)\n",
    "        filterCsv = manualCsv[manualCsv['check'].apply(lambda x : x <= 2.0)]\n",
    "        if type(res) != type(filterCsv):\n",
    "            #print('no')\n",
    "            res = filterCsv\n",
    "        else:\n",
    "            #print('yes')\n",
    "            res = res.append(filterCsv)\n",
    "    return res\n",
    "#con\n",
    "conRes = getCount(conPathList, rootDir)\n",
    "codeCode = code_contract['code']\n",
    "soCode = snippet_contract['code']\n",
    "conIdxList = []\n",
    "soIdxList = []\n",
    "for idx, code in conRes.iterrows():\n",
    "    #print(code[0])\n",
    "    conIdx = codeCode[codeCode == code['code']].index\n",
    "    soIdx = soCode[soCode == code['sni']].index\n",
    "    if len(soIdx) > 1 or len(conIdx) > 1:\n",
    "        print(idx)\n",
    "    conIdxList.append(conIdx[0])\n",
    "    soIdxList.append(soIdx[0])\n",
    "#conIdxList = list(set(idxList))\n",
    "#fun\n",
    "funRes = getCount(funPathList, rootDir)\n",
    "funIdxList = list(funRes.drop_duplicates(['code_index'])['code_index'])\n",
    "#total\n",
    "resList = list(set(conIdxList + funIdxList))\n",
    "#resList"
   ]
  },
  {
   "cell_type": "code",
   "execution_count": 14,
   "metadata": {},
   "outputs": [
    {
     "data": {
      "text/plain": [
       "575"
      ]
     },
     "execution_count": 14,
     "metadata": {},
     "output_type": "execute_result"
    }
   ],
   "source": [
    "len(set(resList))"
   ]
  },
  {
   "cell_type": "code",
   "execution_count": 41,
   "metadata": {},
   "outputs": [],
   "source": [
    "conRes['sni_index'] = soIdxList\n",
    "conRes['code_index'] = conIdxList"
   ]
  },
  {
   "cell_type": "code",
   "execution_count": 43,
   "metadata": {},
   "outputs": [],
   "source": [
    "del conRes['wonder']\n",
    "del conRes['Unnamed: 4']"
   ]
  },
  {
   "cell_type": "code",
   "execution_count": 8,
   "metadata": {},
   "outputs": [
    {
     "data": {
      "text/html": [
       "<div>\n",
       "<style scoped>\n",
       "    .dataframe tbody tr th:only-of-type {\n",
       "        vertical-align: middle;\n",
       "    }\n",
       "\n",
       "    .dataframe tbody tr th {\n",
       "        vertical-align: top;\n",
       "    }\n",
       "\n",
       "    .dataframe thead th {\n",
       "        text-align: right;\n",
       "    }\n",
       "</style>\n",
       "<table border=\"1\" class=\"dataframe\">\n",
       "  <thead>\n",
       "    <tr style=\"text-align: right;\">\n",
       "      <th></th>\n",
       "      <th>sni</th>\n",
       "      <th>bleu</th>\n",
       "      <th>code</th>\n",
       "      <th>check</th>\n",
       "      <th>sni_index</th>\n",
       "      <th>code_index</th>\n",
       "    </tr>\n",
       "  </thead>\n",
       "  <tbody>\n",
       "    <tr>\n",
       "      <th>0</th>\n",
       "      <td>contract Test { uint256 public value; function...</td>\n",
       "      <td>0.757180</td>\n",
       "      <td>contract Test {\\n    uint public test;\\n    \\n...</td>\n",
       "      <td>1.0</td>\n",
       "      <td>45</td>\n",
       "      <td>61793</td>\n",
       "    </tr>\n",
       "    <tr>\n",
       "      <th>1</th>\n",
       "      <td>contract Message {\\n    string myMessage;\\n\\n ...</td>\n",
       "      <td>0.711363</td>\n",
       "      <td>contract MyTest{\\n    string private name;\\n  ...</td>\n",
       "      <td>1.0</td>\n",
       "      <td>61</td>\n",
       "      <td>63568</td>\n",
       "    </tr>\n",
       "    <tr>\n",
       "      <th>2</th>\n",
       "      <td>contract Project {\\n    bytes32 public value;\\...</td>\n",
       "      <td>0.707395</td>\n",
       "      <td>contract Example {\\n\\n    uint256 public value...</td>\n",
       "      <td>1.0</td>\n",
       "      <td>65</td>\n",
       "      <td>12047</td>\n",
       "    </tr>\n",
       "    <tr>\n",
       "      <th>3</th>\n",
       "      <td>contract NewContract {\\n  constructor() public...</td>\n",
       "      <td>0.746086</td>\n",
       "      <td>contract BlankContract {\\n    constructor() pu...</td>\n",
       "      <td>1.0</td>\n",
       "      <td>94</td>\n",
       "      <td>25053</td>\n",
       "    </tr>\n",
       "    <tr>\n",
       "      <th>4</th>\n",
       "      <td>contract interfaceB {\\n  function protectedFun...</td>\n",
       "      <td>0.709232</td>\n",
       "      <td>contract ZethrInterface{\\n    function withdra...</td>\n",
       "      <td>1.0</td>\n",
       "      <td>97</td>\n",
       "      <td>3273</td>\n",
       "    </tr>\n",
       "    <tr>\n",
       "      <th>...</th>\n",
       "      <td>...</td>\n",
       "      <td>...</td>\n",
       "      <td>...</td>\n",
       "      <td>...</td>\n",
       "      <td>...</td>\n",
       "      <td>...</td>\n",
       "    </tr>\n",
       "    <tr>\n",
       "      <th>645</th>\n",
       "      <td>contract ERC223Interface {\\n    uint public to...</td>\n",
       "      <td>0.955526</td>\n",
       "      <td>contract ERC223Interface {\\n\\n    function bal...</td>\n",
       "      <td>0.0</td>\n",
       "      <td>6865</td>\n",
       "      <td>23241</td>\n",
       "    </tr>\n",
       "    <tr>\n",
       "      <th>646</th>\n",
       "      <td>contract Token {\\n  function mint(address _to,...</td>\n",
       "      <td>0.912484</td>\n",
       "      <td>contract Token {\\n    function transfer(addres...</td>\n",
       "      <td>1.0</td>\n",
       "      <td>6868</td>\n",
       "      <td>42026</td>\n",
       "    </tr>\n",
       "    <tr>\n",
       "      <th>647</th>\n",
       "      <td>contract SimpleToken is ERC20 {\\n\\n  string pu...</td>\n",
       "      <td>0.917062</td>\n",
       "      <td>contract BitQueen is ERC20 {\\n\\n  string publi...</td>\n",
       "      <td>1.0</td>\n",
       "      <td>7049</td>\n",
       "      <td>2076</td>\n",
       "    </tr>\n",
       "    <tr>\n",
       "      <th>648</th>\n",
       "      <td>contract ERC223Receiver\\n{\\n    function token...</td>\n",
       "      <td>0.914567</td>\n",
       "      <td>contract ContractReceiver {\\n    function toke...</td>\n",
       "      <td>1.0</td>\n",
       "      <td>7093</td>\n",
       "      <td>2508</td>\n",
       "    </tr>\n",
       "    <tr>\n",
       "      <th>649</th>\n",
       "      <td>contract test{\\n    function multiply(uint a) ...</td>\n",
       "      <td>0.949444</td>\n",
       "      <td>contract test { function multiply(uint a) publ...</td>\n",
       "      <td>1.0</td>\n",
       "      <td>7155</td>\n",
       "      <td>56937</td>\n",
       "    </tr>\n",
       "  </tbody>\n",
       "</table>\n",
       "<p>650 rows × 6 columns</p>\n",
       "</div>"
      ],
      "text/plain": [
       "                                                   sni      bleu  \\\n",
       "0    contract Test { uint256 public value; function...  0.757180   \n",
       "1    contract Message {\\n    string myMessage;\\n\\n ...  0.711363   \n",
       "2    contract Project {\\n    bytes32 public value;\\...  0.707395   \n",
       "3    contract NewContract {\\n  constructor() public...  0.746086   \n",
       "4    contract interfaceB {\\n  function protectedFun...  0.709232   \n",
       "..                                                 ...       ...   \n",
       "645  contract ERC223Interface {\\n    uint public to...  0.955526   \n",
       "646  contract Token {\\n  function mint(address _to,...  0.912484   \n",
       "647  contract SimpleToken is ERC20 {\\n\\n  string pu...  0.917062   \n",
       "648  contract ERC223Receiver\\n{\\n    function token...  0.914567   \n",
       "649  contract test{\\n    function multiply(uint a) ...  0.949444   \n",
       "\n",
       "                                                  code  check  sni_index  \\\n",
       "0    contract Test {\\n    uint public test;\\n    \\n...    1.0         45   \n",
       "1    contract MyTest{\\n    string private name;\\n  ...    1.0         61   \n",
       "2    contract Example {\\n\\n    uint256 public value...    1.0         65   \n",
       "3    contract BlankContract {\\n    constructor() pu...    1.0         94   \n",
       "4    contract ZethrInterface{\\n    function withdra...    1.0         97   \n",
       "..                                                 ...    ...        ...   \n",
       "645  contract ERC223Interface {\\n\\n    function bal...    0.0       6865   \n",
       "646  contract Token {\\n    function transfer(addres...    1.0       6868   \n",
       "647  contract BitQueen is ERC20 {\\n\\n  string publi...    1.0       7049   \n",
       "648  contract ContractReceiver {\\n    function toke...    1.0       7093   \n",
       "649  contract test { function multiply(uint a) publ...    1.0       7155   \n",
       "\n",
       "     code_index  \n",
       "0         61793  \n",
       "1         63568  \n",
       "2         12047  \n",
       "3         25053  \n",
       "4          3273  \n",
       "..          ...  \n",
       "645       23241  \n",
       "646       42026  \n",
       "647        2076  \n",
       "648        2508  \n",
       "649       56937  \n",
       "\n",
       "[650 rows x 6 columns]"
      ]
     },
     "execution_count": 8,
     "metadata": {},
     "output_type": "execute_result"
    }
   ],
   "source": [
    "conRes= pd.read_csv('/home/yfliu/paper_data/manualResultCsv/manualCon.csv')"
   ]
  },
  {
   "cell_type": "code",
   "execution_count": 11,
   "metadata": {},
   "outputs": [],
   "source": [
    "funRes.to_csv('/home/yfliu/paper_data/manualFun.csv',index = False)"
   ]
  }
 ],
 "metadata": {
  "kernelspec": {
   "display_name": "Python 3",
   "language": "python",
   "name": "python3"
  },
  "language_info": {
   "codemirror_mode": {
    "name": "ipython",
    "version": 3
   },
   "file_extension": ".py",
   "mimetype": "text/x-python",
   "name": "python",
   "nbconvert_exporter": "python",
   "pygments_lexer": "ipython3",
   "version": "3.6.10"
  }
 },
 "nbformat": 4,
 "nbformat_minor": 4
}
