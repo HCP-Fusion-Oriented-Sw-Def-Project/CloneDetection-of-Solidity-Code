{
 "cells": [
  {
   "cell_type": "code",
   "execution_count": 6,
   "metadata": {},
   "outputs": [
    {
     "data": {
      "text/plain": [
       "\"t1 = sBugsThread(solList,rootDir,['mythril'],'~/paper_data/bug_result/17wBugResult',10, 'lyf')\\n#run_smartbugs(solList,rootDir,['mythril'],'~/paper_data/bug_result/17wBugResult',10)\\nt1.start()\\nt1.join()\""
      ]
     },
     "execution_count": 6,
     "metadata": {},
     "output_type": "execute_result"
    }
   ],
   "source": [
    "import pandas as pd\n",
    "import docker\n",
    "import os\n",
    "import re\n",
    "import json\n",
    "import threading\n",
    "import time\n",
    "class sBugsThread(threading.Thread):\n",
    "    def __init__(self, sol_list,root_dir,tools,save_addr,runLen, name):\n",
    "        threading.Thread.__init__(self)\n",
    "        self.sol_list = sol_list\n",
    "        self.root_dir = root_dir\n",
    "        self.tools = tools\n",
    "        self.save_addr = save_addr\n",
    "        self.runLen = runLen\n",
    "        self.name = name\n",
    "        \n",
    "    def run(self):\n",
    "        startTime = \"thread {} start in {}\".format(self.name, time.asctime( time.localtime(time.time()) ))\n",
    "        print(startTime)\n",
    "        self.run_smartbugs(self.sol_list, self.root_dir, self.tools, self.save_addr, self.runLen)\n",
    "        print(startTime)\n",
    "        print(\"thread {} end in {}\".format(self.name, time.asctime( time.localtime(time.time()) )))\n",
    "        \n",
    "    #sol文件list，\n",
    "    def run_smartbugs(self,sol_list,root_dir,tools,save_addr,runLen):\n",
    "        for tool in tools:\n",
    "            for i in range(runLen):\n",
    "                inputText = \"cd ~/smartbugs;python3 smartBugs.py --tool {} --file {}\".format(tool,os.path.join(root_dir,sol_list[i]))\n",
    "                text = os.popen(inputText).read()\n",
    "                print(str(text))\n",
    "                print(i)\n",
    "        #os.system('cd ~/smartbugs;rm -r {};cp -r results {};rm -r results;cp -r temp_results results'.format(save_addr,save_addr))\n",
    "rootDir = os.path.join(\"~/data_sol\")\n",
    "solList = os.listdir('/home/yfliu/data_sol')\n",
    "'''t1 = sBugsThread(solList,rootDir,['mythril'],'~/paper_data/bug_result/17wBugResult',10, 'lyf')\n",
    "#run_smartbugs(solList,rootDir,['mythril'],'~/paper_data/bug_result/17wBugResult',10)\n",
    "t1.start()\n",
    "t1.join()'''"
   ]
  },
  {
   "cell_type": "code",
   "execution_count": 41,
   "metadata": {},
   "outputs": [],
   "source": [
    "root = ['/home/yfliu/paper_data/bug_result/result_125_3/smartbugs/results']"
   ]
  },
  {
   "cell_type": "code",
   "execution_count": 49,
   "metadata": {},
   "outputs": [
    {
     "ename": "FileNotFoundError",
     "evalue": "[Errno 2] No such file or directory: '/osiris'",
     "output_type": "error",
     "traceback": [
      "\u001b[0;31m---------------------------------------------------------------------------\u001b[0m",
      "\u001b[0;31mFileNotFoundError\u001b[0m                         Traceback (most recent call last)",
      "\u001b[0;32m<ipython-input-49-6f4285ec2353>\u001b[0m in \u001b[0;36m<module>\u001b[0;34m\u001b[0m\n\u001b[0;32m----> 1\u001b[0;31m \u001b[0mmythril\u001b[0m \u001b[0;34m=\u001b[0m \u001b[0mget_addr\u001b[0m\u001b[0;34m(\u001b[0m\u001b[0;34m'osiris'\u001b[0m\u001b[0;34m,\u001b[0m \u001b[0mroot\u001b[0m\u001b[0;34m)\u001b[0m\u001b[0;34m\u001b[0m\u001b[0;34m\u001b[0m\u001b[0m\n\u001b[0m\u001b[1;32m      2\u001b[0m \u001b[0mprint\u001b[0m\u001b[0;34m(\u001b[0m\u001b[0mlen\u001b[0m\u001b[0;34m(\u001b[0m\u001b[0mset\u001b[0m\u001b[0;34m(\u001b[0m\u001b[0mmythril\u001b[0m\u001b[0;34m)\u001b[0m\u001b[0;34m)\u001b[0m\u001b[0;34m)\u001b[0m\u001b[0;34m\u001b[0m\u001b[0;34m\u001b[0m\u001b[0m\n\u001b[1;32m      3\u001b[0m \u001b[0mcode\u001b[0m \u001b[0;34m=\u001b[0m \u001b[0mos\u001b[0m\u001b[0;34m.\u001b[0m\u001b[0mlistdir\u001b[0m\u001b[0;34m(\u001b[0m\u001b[0;34m'/home/yfliu/paper_data/contractResult/osiris'\u001b[0m\u001b[0;34m)\u001b[0m\u001b[0;34m\u001b[0m\u001b[0;34m\u001b[0m\u001b[0m\n\u001b[1;32m      4\u001b[0m \u001b[0mrootAddr\u001b[0m \u001b[0;34m=\u001b[0m \u001b[0;34m'/home/yfliu/paper_data/contractResult/'\u001b[0m\u001b[0;34m\u001b[0m\u001b[0;34m\u001b[0m\u001b[0m\n\u001b[1;32m      5\u001b[0m \u001b[0mtotal\u001b[0m \u001b[0;34m=\u001b[0m \u001b[0mset\u001b[0m\u001b[0;34m(\u001b[0m\u001b[0mos\u001b[0m\u001b[0;34m.\u001b[0m\u001b[0mlistdir\u001b[0m\u001b[0;34m(\u001b[0m\u001b[0;34m'/home/yfliu/data_sol'\u001b[0m\u001b[0;34m)\u001b[0m\u001b[0;34m)\u001b[0m\u001b[0;34m\u001b[0m\u001b[0;34m\u001b[0m\u001b[0m\n",
      "\u001b[0;32m<ipython-input-2-3ccbff581db7>\u001b[0m in \u001b[0;36mget_addr\u001b[0;34m(tool, rootList)\u001b[0m\n\u001b[1;32m      5\u001b[0m     \u001b[0;31m#root = './smartbugs_result_contract'\u001b[0m\u001b[0;34m\u001b[0m\u001b[0;34m\u001b[0m\u001b[0;34m\u001b[0m\u001b[0m\n\u001b[1;32m      6\u001b[0m     \u001b[0;32mfor\u001b[0m \u001b[0mroot\u001b[0m \u001b[0;32min\u001b[0m \u001b[0mrootList\u001b[0m\u001b[0;34m:\u001b[0m\u001b[0;34m\u001b[0m\u001b[0;34m\u001b[0m\u001b[0m\n\u001b[0;32m----> 7\u001b[0;31m         \u001b[0mdirectory\u001b[0m \u001b[0;34m=\u001b[0m \u001b[0mos\u001b[0m\u001b[0;34m.\u001b[0m\u001b[0mlistdir\u001b[0m\u001b[0;34m(\u001b[0m\u001b[0mos\u001b[0m\u001b[0;34m.\u001b[0m\u001b[0mpath\u001b[0m\u001b[0;34m.\u001b[0m\u001b[0mjoin\u001b[0m\u001b[0;34m(\u001b[0m\u001b[0mroot\u001b[0m\u001b[0;34m,\u001b[0m\u001b[0mtool\u001b[0m\u001b[0;34m)\u001b[0m\u001b[0;34m)\u001b[0m\u001b[0;34m\u001b[0m\u001b[0;34m\u001b[0m\u001b[0m\n\u001b[0m\u001b[1;32m      8\u001b[0m         \u001b[0;31m#print(\"directory {}\".format(directory))\u001b[0m\u001b[0;34m\u001b[0m\u001b[0;34m\u001b[0m\u001b[0;34m\u001b[0m\u001b[0m\n\u001b[1;32m      9\u001b[0m         \u001b[0;32mfor\u001b[0m \u001b[0maddr\u001b[0m \u001b[0;32min\u001b[0m \u001b[0mdirectory\u001b[0m\u001b[0;34m:\u001b[0m\u001b[0;34m\u001b[0m\u001b[0;34m\u001b[0m\u001b[0m\n",
      "\u001b[0;31mFileNotFoundError\u001b[0m: [Errno 2] No such file or directory: '/osiris'"
     ]
    }
   ],
   "source": [
    "\n",
    "mythril = get_addr('osiris', root)\n",
    "print(len(set(mythril)))\n",
    "code = os.listdir('/home/yfliu/paper_data/contractResult/osiris')\n",
    "rootAddr = '/home/yfliu/paper_data/contractResult/'\n",
    "total = set(os.listdir('/home/yfliu/data_sol'))\n",
    "total = set(pd.Series(list(total)).apply(lambda x : x.split('.')[0]))"
   ]
  },
  {
   "cell_type": "code",
   "execution_count": 42,
   "metadata": {},
   "outputs": [],
   "source": [
    "mythril = get_addr('mythril', root)"
   ]
  },
  {
   "cell_type": "code",
   "execution_count": 44,
   "metadata": {},
   "outputs": [
    {
     "data": {
      "text/plain": [
       "False"
      ]
     },
     "execution_count": 44,
     "metadata": {},
     "output_type": "execute_result"
    }
   ],
   "source": [
    "'0x9d693e33e3bdcd89687302aa8e9acd1e1febc09f' in list(set(mythril))"
   ]
  },
  {
   "cell_type": "code",
   "execution_count": 50,
   "metadata": {},
   "outputs": [],
   "source": [
    "code = os.listdir('/home/yfliu/paper_data/contractResult/mythril')"
   ]
  },
  {
   "cell_type": "code",
   "execution_count": 31,
   "metadata": {},
   "outputs": [],
   "source": [
    "pd.Series(list(set(total) - set(list(mythril) + list(code)))).to_csv('/home/yfliu/osiris_83.csv')"
   ]
  },
  {
   "cell_type": "code",
   "execution_count": 35,
   "metadata": {},
   "outputs": [
    {
     "data": {
      "text/plain": [
       "9461"
      ]
     },
     "execution_count": 35,
     "metadata": {},
     "output_type": "execute_result"
    }
   ],
   "source": [
    "len(set(total) - set(list(mythril) + list(code)))"
   ]
  },
  {
   "cell_type": "code",
   "execution_count": 52,
   "metadata": {},
   "outputs": [],
   "source": [
    "root = '/home/yfliu/paper_data/bug_result/result_125_osiris/osiris'\n",
    "ans = []\n",
    "code = []\n",
    "\n",
    "directory = os.listdir(root)\n",
    "#print(\"directory {}\".format(directory))\n",
    "for addr in directory:\n",
    "    #if '20210501' in addr:#注意\n",
    "    temp = os.path.join(root,addr)\n",
    "    #print(temp)\n",
    "    code_dir = os.listdir(temp)#获得到达result.json的地址 \n",
    "    #print(addr + ':'+str(code_dir))\n",
    "    for code_addr in code_dir:\n",
    "        result_addr = os.path.join(temp,code_addr,'result.json')#log.json\n",
    "        ans.append(result_addr)\n",
    "        code.append(code_addr)"
   ]
  },
  {
   "cell_type": "code",
   "execution_count": 53,
   "metadata": {},
   "outputs": [],
   "source": [
    "osi = os.listdir('/home/yfliu/paper_data/contractResult/osiris')"
   ]
  },
  {
   "cell_type": "code",
   "execution_count": 54,
   "metadata": {},
   "outputs": [
    {
     "data": {
      "text/plain": [
       "{'simple_dao'}"
      ]
     },
     "execution_count": 54,
     "metadata": {},
     "output_type": "execute_result"
    }
   ],
   "source": [
    "set(code) - set(osi) "
   ]
  },
  {
   "cell_type": "code",
   "execution_count": 2,
   "metadata": {},
   "outputs": [],
   "source": [
    "def get_addr(tool,rootList):\n",
    "    ans = []\n",
    "    code = []\n",
    "    #root = './smartbugs/results' \n",
    "    #root = './smartbugs_result_contract' \n",
    "    for root in rootList:\n",
    "        directory = os.listdir(os.path.join(root,tool))\n",
    "        #print(\"directory {}\".format(directory))\n",
    "        for addr in directory:\n",
    "            #if '20210501' in addr:#注意\n",
    "            temp = os.path.join(root,tool,addr)\n",
    "            #print(temp)\n",
    "            code_dir = os.listdir(temp)#获得到达result.json的地址 \n",
    "            #print(addr + ':'+str(code_dir))\n",
    "            for code_addr in code_dir:\n",
    "                result_addr = os.path.join(temp,code_addr,'result.json')#log.json\n",
    "                ans.append(result_addr)\n",
    "                code.append(code_addr)\n",
    "   # return ans,code\n",
    "    return code"
   ]
  },
  {
   "cell_type": "code",
   "execution_count": 11,
   "metadata": {},
   "outputs": [],
   "source": [
    "toolPath = ['/home/yfliu/smartbugs/results','/home/yfliu/paper_data/bug_result/result_125/smartbugs/results','/home/yfliu/paper_data/bug_result/result_21/smartbugs/results']\n",
    "toolList = ['mythril','oyente','osiris']"
   ]
  },
  {
   "cell_type": "code",
   "execution_count": 19,
   "metadata": {},
   "outputs": [],
   "source": [
    "tempData = list(set([item.split('.')[0]  for item in os.listdir('/home/yfliu/data_sol/')]).difference(set(get_addr('osiris',toolPath))))"
   ]
  },
  {
   "cell_type": "code",
   "execution_count": 32,
   "metadata": {},
   "outputs": [],
   "source": [
    "pd.Series(tempData[0:int(len(tempData) / 2)]).to_csv('/home/yfliu/data_sol_split_83.csv', index = False,header = False)\n"
   ]
  },
  {
   "cell_type": "code",
   "execution_count": 34,
   "metadata": {},
   "outputs": [],
   "source": [
    "pd.Series(tempData[int(len(tempData) / 2):]).to_csv('/home/yfliu/data_sol_split_125.csv', index = False,header = False)"
   ]
  },
  {
   "cell_type": "code",
   "execution_count": 40,
   "metadata": {},
   "outputs": [],
   "source": [
    "oneThrid = int(len(endRes)/ 3)\n",
    "for i in range(3):\n",
    "    endRes[i * oneThrid:(i + 1) * oneThrid].to_csv('/home/yfliu/data_sol_split_{}.csv'.format(i), index = False,header = False)"
   ]
  },
  {
   "cell_type": "code",
   "execution_count": 20,
   "metadata": {},
   "outputs": [
    {
     "name": "stdout",
     "output_type": "stream",
     "text": [
      "thread lyf start in Mon Nov 15 10:49:03 2021\n",
      "thread lyf start in Mon Nov 15 10:49:03 2021\n",
      "thread lyf start in Mon Nov 15 10:49:03 2021\n",
      "thread lyf start in Mon Nov 15 10:49:03 2021\n",
      "thread lyf start in Mon Nov 15 10:49:03 2021\n",
      "\n",
      "0\n",
      "\n",
      "0\n",
      "\n",
      "0\n",
      "\n",
      "0\n",
      "\n",
      "0\n",
      "\n",
      "1\n",
      "thread lyf start in Mon Nov 15 10:49:03 2021\n",
      "thread lyf end in Mon Nov 15 10:49:03 2021\n",
      "\n",
      "1\n",
      "thread lyf start in Mon Nov 15 10:49:03 2021\n",
      "thread lyf end in Mon Nov 15 10:49:03 2021\n",
      "\n",
      "1\n",
      "thread lyf start in Mon Nov 15 10:49:03 2021\n",
      "thread lyf end in Mon Nov 15 10:49:03 2021\n",
      "\n",
      "1\n",
      "thread lyf start in Mon Nov 15 10:49:03 2021\n",
      "thread lyf end in Mon Nov 15 10:49:03 2021\n",
      "\n",
      "1\n",
      "thread lyf start in Mon Nov 15 10:49:03 2021\n",
      "thread lyf end in Mon Nov 15 10:49:03 2021\n"
     ]
    }
   ],
   "source": [
    "#测试多线程跑程序\n",
    "threadList = []\n",
    "for i in range(5):\n",
    "    threadList.append(sBugsThread(solList[i:i + 2],rootDir,['mythril'],'~/paper_data/bug_result/17wBugResult',2, 'lyf'))\n",
    "    threadList[i].start()\n",
    "for i in range(5):\n",
    "    threadList[i].join()"
   ]
  }
 ],
 "metadata": {
  "kernelspec": {
   "display_name": "Python 3",
   "language": "python",
   "name": "python3"
  },
  "language_info": {
   "codemirror_mode": {
    "name": "ipython",
    "version": 3
   },
   "file_extension": ".py",
   "mimetype": "text/x-python",
   "name": "python",
   "nbconvert_exporter": "python",
   "pygments_lexer": "ipython3",
   "version": "3.6.10"
  }
 },
 "nbformat": 4,
 "nbformat_minor": 4
}
