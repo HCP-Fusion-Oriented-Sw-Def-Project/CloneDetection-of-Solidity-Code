{
 "cells": [
  {
   "cell_type": "code",
   "execution_count": 1,
   "metadata": {},
   "outputs": [],
   "source": [
    "from nltk.translate.bleu_score import sentence_bleu, corpus_bleu,SmoothingFunction\n",
    "import pandas as pd\n",
    "import numpy as np\n",
    "import docker\n",
    "import os\n",
    "import re\n",
    "import random\n",
    "from string import punctuation\n",
    "import json\n",
    "import matplotlib.pyplot as plt\n",
    "punc = punctuation\n",
    "smooth = SmoothingFunction()"
   ]
  },
  {
   "cell_type": "code",
   "execution_count": 3,
   "metadata": {},
   "outputs": [],
   "source": [
    "sniPathCon = \"/home/yfliu/paper_data/conFunFormat/snippet_contract.csv\"\n",
    "codePathCon = \"/home/yfliu/paper_data/conFunFormat/code_contract.csv\"\n",
    "sniPathFun = \"/home/yfliu/paper_data/conFunFormat/snippet_function.csv\"\n",
    "codePathFun = \"/home/yfliu/paper_data/conFunFormat/code_function.csv\"\n",
    "matchPathCon = \"/home/yfliu/paper_data/manualResultCsv/manualCon.csv\"\n",
    "matchPathFun = \"/home/yfliu/paper_data/manualResultCsv/manualFun.csv\""
   ]
  },
  {
   "cell_type": "code",
   "execution_count": 4,
   "metadata": {},
   "outputs": [],
   "source": [
    "snippetCon = pd.read_csv(sniPathCon)\n",
    "codeCon = pd.read_csv(codePathCon)\n",
    "matchCon = pd.read_csv(matchPathCon)\n",
    "\n",
    "snippetFun = pd.read_csv(sniPathFun)\n",
    "codeFun = pd.read_csv(codePathFun)\n",
    "matchFun = pd.read_csv(matchPathFun)"
   ]
  },
  {
   "cell_type": "code",
   "execution_count": 48,
   "metadata": {},
   "outputs": [],
   "source": [
    "#改成目前的pic格式\n",
    "def changeFmt(match, snippet, code,addr):\n",
    "    code['0'] = code.index\n",
    "    code['0'] = code['0'].apply(lambda x : [x])\n",
    "    snippet['sni_code'] = snippet['code']\n",
    "    snippet['snippet'] = snippet.index\n",
    "    match['sni_code'] = match['sni']\n",
    "    data = pd.DataFrame({\n",
    "    'snippet':match.merge(snippet,on=['sni_code'])['snippet'],\n",
    "    '0':match.merge(code,on=['code'])['0']\n",
    "})\n",
    "    data.to_pickle(addr)\n",
    "changeFmt(matchCon, snippetCon, codeCon, '/home/yfliu/paper_data/matchRes/manualMatchCon.pic')\n",
    "changeFmt(matchFun, snippetFun, codeFun, '/home/yfliu/paper_data/matchRes/manualMatchFun.pic')"
   ]
  }
 ],
 "metadata": {
  "kernelspec": {
   "display_name": "Python 3",
   "language": "python",
   "name": "python3"
  },
  "language_info": {
   "codemirror_mode": {
    "name": "ipython",
    "version": 3
   },
   "file_extension": ".py",
   "mimetype": "text/x-python",
   "name": "python",
   "nbconvert_exporter": "python",
   "pygments_lexer": "ipython3",
   "version": "3.6.10"
  }
 },
 "nbformat": 4,
 "nbformat_minor": 4
}
