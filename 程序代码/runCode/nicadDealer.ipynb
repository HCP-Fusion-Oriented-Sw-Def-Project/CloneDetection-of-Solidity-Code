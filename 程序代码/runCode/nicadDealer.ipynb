{
 "cells": [
  {
   "cell_type": "code",
   "execution_count": 2,
   "metadata": {},
   "outputs": [],
   "source": [
    "import sys\n",
    "import pprint\n",
    "import json\n",
    "from nltk.translate.bleu_score import sentence_bleu, corpus_bleu\n",
    "import pandas as pd\n",
    "from nltk.translate.bleu_score import SmoothingFunction\n",
    "import pandas as pd\n",
    "import numpy as np\n",
    "import docker\n",
    "import os\n",
    "import re\n",
    "from matplotlib.font_manager import FontProperties\n",
    "from string import punctuation\n",
    "import gc\n",
    "from xml.dom.minidom import parse\n",
    "import xml.dom.minidom\n",
    "punc = punctuation\n",
    "smooth = SmoothingFunction()"
   ]
  },
  {
   "cell_type": "code",
   "execution_count": 17,
   "metadata": {},
   "outputs": [],
   "source": [
    "def to_file(snippet,typeName,addr):\n",
    "    for index,row in snippet.iterrows():\n",
    "        data = row['code']\n",
    "        file = open(os.path.join(addr, typeName, str(index) + '.sol'),'w')\n",
    "        file.write(data)\n",
    "        file.close()"
   ]
  },
  {
   "cell_type": "code",
   "execution_count": 4,
   "metadata": {},
   "outputs": [],
   "source": [
    "#to_file将csv结果存储成sol文件格式\n",
    "snippet_contract = pd.read_csv(\"/home/yfliu/paper_data/conFunFormat/snippet_contract.csv\")\n",
    "snippet_function = pd.read_csv(\"/home/yfliu/paper_data/conFunFormat/snippet_function.csv\")\n",
    "to_file(snippet_contract,'contract','/home/yfliu/paper_data/snippetSolFmt')\n",
    "to_file(snippet_function,'function','/home/yfliu/paper_data/snippetSolFmt')"
   ]
  },
  {
   "cell_type": "code",
   "execution_count": 18,
   "metadata": {},
   "outputs": [],
   "source": [
    "code_contract = pd.read_csv(\"/home/yfliu/paper_data/conFunFormat/code_contract.csv\")\n",
    "code_function = pd.read_csv(\"/home/yfliu/paper_data/conFunFormat/code_function.csv\")\n",
    "to_file(code_function,'function','/home/yfliu/paper_data/codeSolFmt')\n",
    "to_file(code_contract,'contract','/home/yfliu/paper_data/codeSolFmt')"
   ]
  },
  {
   "cell_type": "markdown",
   "metadata": {},
   "source": [
    "# xml dealer"
   ]
  },
  {
   "cell_type": "code",
   "execution_count": 22,
   "metadata": {},
   "outputs": [],
   "source": [
    "contractResAddr = '/home/yfliu/paper_data/snippetSolFmt/contract_contracts-consistent-crossclones/contract_contracts-consistent-crossclones-0.00.xml'\n",
    "functionResAddr = '/home/yfliu/paper_data/snippetSolFmt/function_functions-consistent-crossclones/function_functions-consistent-crossclones-0.00.xml'\n",
    "conStoreAddr = '/home/yfliu/paper_data/matchRes/nicadCConMatch.pic'\n",
    "funStoreAddr = '/home/yfliu/paper_data/matchRes/nicadCFunMatch.pic'"
   ]
  },
  {
   "cell_type": "code",
   "execution_count": 48,
   "metadata": {},
   "outputs": [],
   "source": [
    "functionResAddr = '/home/yfliu/paper_data/snippetSolFmt/function_functions-consistent-crossclones/function_functions-consistent-crossclones-0.30.xml'\n",
    "contractResAddr = '/home/yfliu/paper_data/snippetSolFmt/contract_contracts-consistent-crossclones/contract_contracts-consistent-crossclones-0.30.xml'\n",
    "conStoreAddr = '/home/yfliu/paper_data/matchRes/nicad32CConMatch.pic'\n",
    "funStoreAddr = '/home/yfliu/paper_data/matchRes/nicad32CFunMatch.pic'"
   ]
  },
  {
   "cell_type": "code",
   "execution_count": 11,
   "metadata": {},
   "outputs": [],
   "source": [
    "functionResAddr = '/home/yfliu/paper_data/snippetSolFmt/function_functions-consistent-crossclones/function_functions-consistent-crossclones-0.50.xml'\n",
    "contractResAddr = '/home/yfliu/paper_data/snippetSolFmt/contract_contracts-consistent-crossclones/contract_contracts-consistent-crossclones-0.50.xml'\n",
    "conStoreAddr = '/home/yfliu/paper_data/matchRes/nicad3ConMatch_0.5.pic'\n",
    "funStoreAddr = '/home/yfliu/paper_data/matchRes/nicad3FunMatch_0.5.pic'"
   ]
  },
  {
   "cell_type": "code",
   "execution_count": 14,
   "metadata": {},
   "outputs": [],
   "source": [
    "functionResAddr = '/home/yfliu/paper_data/snippetSolFmt/function_functions-consistent-crossclones/function_functions-consistent-crossclones-0.80.xml'\n",
    "contractResAddr = '/home/yfliu/paper_data/snippetSolFmt/contract_contracts-consistent-crossclones/contract_contracts-consistent-crossclones-0.80.xml'\n",
    "conStoreAddr = '/home/yfliu/paper_data/matchRes/nicad3ConMatch_0.8.pic'\n",
    "funStoreAddr = '/home/yfliu/paper_data/matchRes/nicad3FunMatch_0.8.pic'"
   ]
  },
  {
   "cell_type": "code",
   "execution_count": 12,
   "metadata": {},
   "outputs": [],
   "source": [
    "def xmlDeal(addr, sniFlag):\n",
    "    res = {}\n",
    "    DOMTree = xml.dom.minidom.parse(addr)\n",
    "    collection = DOMTree.documentElement\n",
    "    pairs = collection.getElementsByTagName(\"clone\")\n",
    "    for pair in pairs:\n",
    "        sources = pair.getElementsByTagName('source')\n",
    "        if len(sources) > 2:\n",
    "            print(sources)\n",
    "        sniIdx = -1\n",
    "        codeIdx = -1\n",
    "        for source in sources:\n",
    "            file = source.getAttribute('file')\n",
    "            idx = int(file.split('.')[0].split('/')[-1])\n",
    "            if sniFlag in file:\n",
    "                sniIdx = idx\n",
    "            else:\n",
    "                codeIdx = idx\n",
    "        if sniIdx in res.keys():\n",
    "            res[sniIdx].append(codeIdx)\n",
    "        else:\n",
    "            res[sniIdx] = [codeIdx]\n",
    "    return res\n",
    "        "
   ]
  },
  {
   "cell_type": "code",
   "execution_count": 15,
   "metadata": {},
   "outputs": [
    {
     "data": {
      "text/plain": [
       "155"
      ]
     },
     "execution_count": 15,
     "metadata": {},
     "output_type": "execute_result"
    }
   ],
   "source": [
    "addr = functionResAddr\n",
    "sniFlag = 'snippetSolFmt'\n",
    "func = xmlDeal(addr, sniFlag)\n",
    "len(func.keys())"
   ]
  },
  {
   "cell_type": "code",
   "execution_count": 16,
   "metadata": {},
   "outputs": [
    {
     "data": {
      "text/plain": [
       "2693"
      ]
     },
     "execution_count": 16,
     "metadata": {},
     "output_type": "execute_result"
    }
   ],
   "source": [
    "addr = contractResAddr\n",
    "sniFlag = 'snippetSolFmt'\n",
    "con = xmlDeal(addr, sniFlag)\n",
    "len(con.keys())"
   ]
  },
  {
   "cell_type": "code",
   "execution_count": 17,
   "metadata": {},
   "outputs": [],
   "source": [
    "def resDeal(data,addr):\n",
    "    key = list(data.keys())\n",
    "    value = list(data.values())\n",
    "    dataFrame = pd.DataFrame({\n",
    "        'snippet':key,\n",
    "        '0':value\n",
    "    })\n",
    "    #return dataFrame\n",
    "    dataFrame.to_pickle(addr)\n",
    "f = resDeal(func,funStoreAddr)\n",
    "c = resDeal(con,conStoreAddr)"
   ]
  }
 ],
 "metadata": {
  "kernelspec": {
   "display_name": "Python 3",
   "language": "python",
   "name": "python3"
  },
  "language_info": {
   "codemirror_mode": {
    "name": "ipython",
    "version": 3
   },
   "file_extension": ".py",
   "mimetype": "text/x-python",
   "name": "python",
   "nbconvert_exporter": "python",
   "pygments_lexer": "ipython3",
   "version": "3.6.10"
  }
 },
 "nbformat": 4,
 "nbformat_minor": 4
}
