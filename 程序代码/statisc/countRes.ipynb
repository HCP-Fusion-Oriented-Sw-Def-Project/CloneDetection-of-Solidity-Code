{
 "cells": [
  {
   "cell_type": "code",
   "execution_count": 1,
   "metadata": {},
   "outputs": [],
   "source": [
    "from nltk.translate.bleu_score import sentence_bleu, corpus_bleu,SmoothingFunction\n",
    "import pandas as pd\n",
    "import numpy as np\n",
    "import docker\n",
    "import os\n",
    "import re\n",
    "import random\n",
    "from string import punctuation\n",
    "import json\n",
    "import matplotlib.pyplot as plt\n",
    "import pickle\n",
    "punc = punctuation\n",
    "smooth = SmoothingFunction()"
   ]
  },
  {
   "cell_type": "code",
   "execution_count": 5,
   "metadata": {},
   "outputs": [],
   "source": [
    "#countGasRes\n",
    "def countGasRes(data):\n",
    "    #patNum = [1,6,2,3,4,7] 雀屏论文顺序有误 这个顺序对应1，2，3，4，5，6\n",
    "    total = 0\n",
    "    for item in [1,6,2,3,4,7]:\n",
    "        print(item,end=' ')\n",
    "        num = len(data[data['pattern{}'.format(item)].apply(lambda x : x != None and len(x) > 0)])\n",
    "        print(num)\n",
    "        total += num\n",
    "    print(total)\n",
    "\n",
    "#countBugRes\n",
    "def smallerRange(oldNum, lineNum):\n",
    "    if len(oldNum) < 1 or len(lineNum) < 1:\n",
    "        print('great error')\n",
    "        return False\n",
    "    oldStart = oldNum[0]\n",
    "    oldEnd = oldNum[-1]\n",
    "    lineStart = lineNum[0]\n",
    "    lineEnd = lineNum[-1]\n",
    "    return lineStart >= oldStart and lineEnd <= oldEnd\n",
    "def updateMap(res, title, lineNum):\n",
    "    lineNum = [lineNum] if type(lineNum) == int else lineNum\n",
    "    lineOldNum = res[title]\n",
    "    for oldNum in lineOldNum:\n",
    "        #print(oldNum)\n",
    "        if smallerRange(oldNum, lineNum):\n",
    "            return\n",
    "    res[title].append(lineNum)\n",
    "    \n",
    "def subDict(dict1, dict2):\n",
    "    res = {}\n",
    "    for item in dict1.keys():\n",
    "        if item not in dict2.keys():\n",
    "            res[item] = dict1[item]\n",
    "        elif dict1[item] - dict2[item] > 0:\n",
    "            res[item] = dict1[item] - dict2[item]\n",
    "    return res\n",
    "    \n",
    "def getCount(mapRes):\n",
    "    resCount = {}\n",
    "    for item in mapRes:\n",
    "        if len(item) > 0:\n",
    "            for bugName in item.keys():\n",
    "                count = len(item[bugName])\n",
    "                if bugName in resCount.keys():\n",
    "                    resCount[bugName] += count\n",
    "                else:\n",
    "                    resCount[bugName] = count\n",
    "    return resCount\n",
    "\n",
    "toolNames = ['mythril_analysis_not_info','osiris_analysis','slither_analysis_not_info']\n",
    "\n",
    "def get(cc, toolNames):\n",
    "    mapRes = []\n",
    "    for index,row in cc.iterrows():\n",
    "        #同行算消除\n",
    "        res = {}\n",
    "        for toolName in toolNames:\n",
    "            #toolRes = row[toolName]\n",
    "            toolRes =  eval(row[toolName]) if type(row[toolName]) == str else row[toolName]\n",
    "            for tRes in toolRes:\n",
    "                lineNum = tRes['lineno']\n",
    "                title = mapp[toolName.split('_')[0]][tRes['title'].strip()]#已经转换过\n",
    "                if title in res.keys():\n",
    "                    updateMap(res, title, lineNum)\n",
    "                else:\n",
    "                    res[title] = [[lineNum] if type(lineNum) == int else lineNum]#使用lineNum--list的len计算数量 [[],[]]\n",
    "            #temp = [res]\n",
    "            #print(getCount(temp))\n",
    "        mapRes.append(res)\n",
    "    resCount =  getCount(mapRes)\n",
    "    return resCount\n",
    "\n",
    "def countBugRes(data):\n",
    "    print('mythril: {}'.format( get(data, ['mythril_analysis_not_info']) ))\n",
    "    print('osiris: {}'.format(subDict(get(data, ['mythril_analysis_not_info','osiris_analysis']), get(data, ['mythril_analysis_not_info']))))\n",
    "    print('slither: {}'.format( subDict(get(data, ['mythril_analysis_not_info','osiris_analysis','slither_analysis_not_info']), get(data, ['mythril_analysis_not_info','osiris_analysis'])) ))\n",
    "    print('total:',end=' ')\n",
    "    total = get(data, ['mythril_analysis_not_info','osiris_analysis','slither_analysis_not_info'])\n",
    "    count = 0\n",
    "    for item in total:\n",
    "        count += total[item]\n",
    "    print(total)\n",
    "    print(count)\n",
    "#工具结果整合    \n",
    "head = [' access_control ',\n",
    " ' arithmetic ',\n",
    " ' denial_service ',\n",
    " ' reentrancy ',\n",
    " ' unchecked_low_calls ',\n",
    " ' bad_randomness ',\n",
    " ' front_running ',\n",
    " ' time_manipulation ',\n",
    " ' short_addresses ',\n",
    " ' Other ',\n",
    " ' Ignore ']    \n",
    "dic = dict(zip(head,[0]*10))\n",
    "mapping = open('/home/yfliu/mapping.json').read()\n",
    "mapp = json.loads(mapping)\n",
    "slither_map = mapp['slither']\n",
    "slither_key = slither_map.keys()\n",
    "slither_type_map = dict(zip(slither_key,[0]*len(slither_key)))\n",
    "u = open('/home/yfliu/paper/trash/temp.txt').read()\n",
    "for i in u.splitlines():\n",
    "    sp = i.split()\n",
    "    slither_type_map[sp[1]] = sp[-2]\n",
    "slither_type_map\n",
    "slither_type_map['constant-function'] = 'Medium'\n",
    "slither_bug_patch = ['constable-states','erc20-indexed','erc20-interface','external-function','incorrect-equality','naming-convention','shadowing-local','shadowing-state','shadowing-builtin','shadowing-abstract']    "
   ]
  },
  {
   "cell_type": "code",
   "execution_count": 10,
   "metadata": {},
   "outputs": [],
   "source": [
    "conMan = pd.read_pickle('/home/yfliu/paper_data/manualResultCsv/contractResGas.pic')\n",
    "funMan = pd.read_pickle('/home/yfliu/paper_data/manualResultCsv/functionResGas.pic')\n",
    "runList = [conMan,funMan]"
   ]
  },
  {
   "cell_type": "code",
   "execution_count": 63,
   "metadata": {},
   "outputs": [],
   "source": [
    "def checkBLEU(match):\n",
    "    b = []\n",
    "    for idx,row in match.iterrows():\n",
    "        bleu = sentence_bleu([row['sni_code']],row['contract_code'],smoothing_function=smooth.method1)\n",
    "        b.append((bleu))#\n",
    "    return b\n",
    "def checkBLEUS(match):\n",
    "    b = []\n",
    "    for idx,row in match.iterrows():\n",
    "        bleu = sentence_bleu([row['sni_code']],row['contract_code'],smoothing_function=smooth.method1)\n",
    "        b.append((\"%.1f\" % bleu))#\n",
    "    return b\n",
    "def anlysisBLEU(data):\n",
    "    xRange = range(0,11)\n",
    "    xRange = [str(item / 10) for item in list(xRange)]\n",
    "    t = {}\n",
    "    for item in xRange:\n",
    "        t[item] = 0\n",
    "    for item in data:\n",
    "        t[item] += 1\n",
    "    return t"
   ]
  },
  {
   "cell_type": "code",
   "execution_count": 2,
   "metadata": {},
   "outputs": [],
   "source": [
    "#conMan = pd.read_pickle('/home/yfliu/paper_data/manualResultCsv/contractRes.pic')\n",
    "conAst = pd.read_pickle('/home/yfliu/paper_data/astResultCsv/contractRes.pic')\n",
    "#conAstBleu = pd.read_pickle('/home/yfliu/paper_data/astResultCsv/contractRes_bleu.pic')\n",
    "#funMan = pd.read_pickle('/home/yfliu/paper_data/manualResultCsv/functionRes.pic')\n",
    "funAst = pd.read_pickle('/home/yfliu/paper_data/astResultCsv/functionRes.pic')\n",
    "#funAstBleu = pd.read_pickle('/home/yfliu/paper_data/astResultCsv/functionRes_bleu.pic')\n",
    "runList = [conAst,funAst]"
   ]
  },
  {
   "cell_type": "code",
   "execution_count": 68,
   "metadata": {},
   "outputs": [],
   "source": [
    "conAst = pd.read_pickle('/home/yfliu/paper_data/astResultCsv/contractRes_v2.pic')\n",
    "funAst = pd.read_pickle('/home/yfliu/paper_data/astResultCsv/functionRes_v2.pic')"
   ]
  },
  {
   "cell_type": "code",
   "execution_count": 60,
   "metadata": {},
   "outputs": [],
   "source": [
    "conBleu = pd.read_pickle('/home/yfliu/paper_data/astResultCsv/contractResBleu.pic')\n",
    "funBleu = pd.read_pickle('/home/yfliu/paper_data/astResultCsv/functionResBleu.pic')"
   ]
  },
  {
   "cell_type": "code",
   "execution_count": 65,
   "metadata": {},
   "outputs": [
    {
     "data": {
      "text/html": [
       "<div>\n",
       "<style scoped>\n",
       "    .dataframe tbody tr th:only-of-type {\n",
       "        vertical-align: middle;\n",
       "    }\n",
       "\n",
       "    .dataframe tbody tr th {\n",
       "        vertical-align: top;\n",
       "    }\n",
       "\n",
       "    .dataframe thead th {\n",
       "        text-align: right;\n",
       "    }\n",
       "</style>\n",
       "<table border=\"1\" class=\"dataframe\">\n",
       "  <thead>\n",
       "    <tr style=\"text-align: right;\">\n",
       "      <th></th>\n",
       "      <th>snippet</th>\n",
       "      <th>0</th>\n",
       "    </tr>\n",
       "  </thead>\n",
       "  <tbody>\n",
       "    <tr>\n",
       "      <th>0</th>\n",
       "      <td>1835</td>\n",
       "      <td>[23883, 56036]</td>\n",
       "    </tr>\n",
       "    <tr>\n",
       "      <th>1</th>\n",
       "      <td>3068</td>\n",
       "      <td>[25081]</td>\n",
       "    </tr>\n",
       "    <tr>\n",
       "      <th>2</th>\n",
       "      <td>3057</td>\n",
       "      <td>[50501, 61515, 13747, 62411, 50142, 67326, 524...</td>\n",
       "    </tr>\n",
       "    <tr>\n",
       "      <th>3</th>\n",
       "      <td>2451</td>\n",
       "      <td>[50501, 61515, 13747, 62411, 50142, 67326, 524...</td>\n",
       "    </tr>\n",
       "    <tr>\n",
       "      <th>4</th>\n",
       "      <td>246</td>\n",
       "      <td>[27760, 25530, 21061, 35746, 12750, 48342, 478...</td>\n",
       "    </tr>\n",
       "    <tr>\n",
       "      <th>...</th>\n",
       "      <td>...</td>\n",
       "      <td>...</td>\n",
       "    </tr>\n",
       "    <tr>\n",
       "      <th>643</th>\n",
       "      <td>5218</td>\n",
       "      <td>[18397]</td>\n",
       "    </tr>\n",
       "    <tr>\n",
       "      <th>644</th>\n",
       "      <td>2080</td>\n",
       "      <td>[8042]</td>\n",
       "    </tr>\n",
       "    <tr>\n",
       "      <th>645</th>\n",
       "      <td>1371</td>\n",
       "      <td>[35661, 68902, 55668, 2761, 2469, 7184, 37472,...</td>\n",
       "    </tr>\n",
       "    <tr>\n",
       "      <th>646</th>\n",
       "      <td>3167</td>\n",
       "      <td>[68192, 3699, 52982, 29759]</td>\n",
       "    </tr>\n",
       "    <tr>\n",
       "      <th>647</th>\n",
       "      <td>1208</td>\n",
       "      <td>[4495]</td>\n",
       "    </tr>\n",
       "  </tbody>\n",
       "</table>\n",
       "<p>648 rows × 2 columns</p>\n",
       "</div>"
      ],
      "text/plain": [
       "     snippet                                                  0\n",
       "0       1835                                     [23883, 56036]\n",
       "1       3068                                            [25081]\n",
       "2       3057  [50501, 61515, 13747, 62411, 50142, 67326, 524...\n",
       "3       2451  [50501, 61515, 13747, 62411, 50142, 67326, 524...\n",
       "4        246  [27760, 25530, 21061, 35746, 12750, 48342, 478...\n",
       "..       ...                                                ...\n",
       "643     5218                                            [18397]\n",
       "644     2080                                             [8042]\n",
       "645     1371  [35661, 68902, 55668, 2761, 2469, 7184, 37472,...\n",
       "646     3167                        [68192, 3699, 52982, 29759]\n",
       "647     1208                                             [4495]\n",
       "\n",
       "[648 rows x 2 columns]"
      ]
     },
     "execution_count": 65,
     "metadata": {},
     "output_type": "execute_result"
    }
   ],
   "source": [
    "pd.read_pickle(\"/home/yfliu/paper_data/matchRes/nicad3ConMatch_0.5.pic\")"
   ]
  },
  {
   "cell_type": "code",
   "execution_count": 51,
   "metadata": {},
   "outputs": [],
   "source": [
    "conAst['bleu'] = checkBLEU(conAst)"
   ]
  },
  {
   "cell_type": "code",
   "execution_count": null,
   "metadata": {},
   "outputs": [],
   "source": [
    "#>0.7 550 191"
   ]
  },
  {
   "cell_type": "code",
   "execution_count": 62,
   "metadata": {},
   "outputs": [
    {
     "name": "stdout",
     "output_type": "stream",
     "text": [
      "{'0.0': 136, '0.1': 148, '0.2': 146, '0.3': 83, '0.4': 47, '0.5': 9, '0.6': 0, '0.7': 2, '0.8': 1, '0.9': 2, '1.0': 0}\n",
      "{'0.0': 89, '0.1': 104, '0.2': 90, '0.3': 45, '0.4': 11, '0.5': 2, '0.6': 1, '0.7': 0, '0.8': 0, '0.9': 0, '1.0': 0}\n"
     ]
    }
   ],
   "source": [
    "print(anlysisBLEU(checkBLEUS(conBleu)))\n",
    "print(anlysisBLEU(checkBLEUS(funBleu)))"
   ]
  },
  {
   "cell_type": "code",
   "execution_count": 73,
   "metadata": {},
   "outputs": [
    {
     "name": "stdout",
     "output_type": "stream",
     "text": [
      "{'0.0': 50, '0.1': 12, '0.2': 21, '0.3': 48, '0.4': 119, '0.5': 126, '0.6': 115, '0.7': 111, '0.8': 98, '0.9': 212, '1.0': 208}\n",
      "{'0.0': 0, '0.1': 3, '0.2': 36, '0.3': 28, '0.4': 56, '0.5': 87, '0.6': 70, '0.7': 68, '0.8': 77, '0.9': 134, '1.0': 50}\n"
     ]
    }
   ],
   "source": [
    "conB = anlysisBLEU(checkBLEUS(conAst))\n",
    "funB = anlysisBLEU(checkBLEUS(funAst))\n",
    "print(conB)\n",
    "print(funB)"
   ]
  },
  {
   "cell_type": "code",
   "execution_count": 72,
   "metadata": {},
   "outputs": [],
   "source": [
    "def barr(keys,values):\n",
    "    fig = plt.figure(figsize=(8,4))\n",
    "    plt.bar(keys, values)\n",
    "    for a,b in zip(keys,values):\n",
    "        plt.text(a, b+0.01, '%.0f' % b, ha='center', va= 'bottom')\n",
    "    plt.xticks()\n",
    "    #plt.xlabel(\"Distribution of contract duplication\")\n",
    "    #plt.ylabel(\"Contract count\")\n",
    "    plt.show()"
   ]
  },
  {
   "cell_type": "code",
   "execution_count": 75,
   "metadata": {},
   "outputs": [
    {
     "data": {
      "image/png": "[encoded data removed]",
      "text/plain": [
       "<Figure size 576x288 with 1 Axes>"
      ]
     },
     "metadata": {
      "needs_background": "light"
     },
     "output_type": "display_data"
    }
   ],
   "source": [
    "\n",
    "#num_count = [103,34,23,18,9,7,8,9,4,418]\n",
    "barr(funB.keys(),conB.values())"
   ]
  },
  {
   "cell_type": "code",
   "execution_count": 6,
   "metadata": {
    "scrolled": true
   },
   "outputs": [
    {
     "name": "stdout",
     "output_type": "stream",
     "text": [
      "1 115\n",
      "6 345\n",
      "2 7\n",
      "3 6\n",
      "4 33\n",
      "7 14\n",
      "520\n",
      "-----------------\n",
      "1 2\n",
      "6 82\n",
      "2 0\n",
      "3 1\n",
      "4 10\n",
      "7 5\n",
      "100\n",
      "-----------------\n"
     ]
    }
   ],
   "source": [
    "#gas\n",
    "for item in runList:\n",
    "    countGasRes(item)\n",
    "    print('-----------------')"
   ]
  },
  {
   "cell_type": "code",
   "execution_count": 7,
   "metadata": {
    "scrolled": true
   },
   "outputs": [
    {
     "name": "stdout",
     "output_type": "stream",
     "text": [
      "mythril: {' arithmetic ': 113, ' Other ': 11, ' front_running ': 11, ' reentrancy ': 11, ' access_control ': 4}\n",
      "osiris: {' arithmetic ': 112, ' Ignore ': 27, ' time_manipulation ': 10, ' reentrancy ': 1, ' denial_service ': 1}\n",
      "slither: {' Other ': 17, ' time_manipulation ': 6, ' reentrancy ': 20, ' unchecked_low_calls ': 20, ' denial_service ': 19, ' access_control ': 15}\n",
      "total: {' arithmetic ': 225, ' Other ': 28, ' front_running ': 11, ' Ignore ': 27, ' time_manipulation ': 16, ' reentrancy ': 32, ' unchecked_low_calls ': 20, ' denial_service ': 20, ' access_control ': 19}\n",
      "398\n",
      "------------------\n",
      "mythril: {' Other ': 6, ' front_running ': 12, ' arithmetic ': 68, ' reentrancy ': 13, ' access_control ': 2}\n",
      "osiris: {' arithmetic ': 46, ' Ignore ': 8, ' time_manipulation ': 6, ' denial_service ': 2}\n",
      "slither: {' Other ': 4, ' reentrancy ': 11, ' unchecked_low_calls ': 7, ' time_manipulation ': 1, ' access_control ': 6, ' denial_service ': 1}\n",
      "total: {' Other ': 10, ' reentrancy ': 24, ' arithmetic ': 114, ' front_running ': 12, ' Ignore ': 8, ' unchecked_low_calls ': 7, ' time_manipulation ': 7, ' access_control ': 8, ' denial_service ': 3}\n",
      "193\n",
      "------------------\n"
     ]
    }
   ],
   "source": [
    "#bug\n",
    "for item in runList:\n",
    "    countBugRes(item)\n",
    "    print('------------------')"
   ]
  },
  {
   "cell_type": "code",
   "execution_count": null,
   "metadata": {},
   "outputs": [],
   "source": [
    "#getAcc\n"
   ]
  },
  {
   "cell_type": "code",
   "execution_count": 52,
   "metadata": {},
   "outputs": [],
   "source": [
    "#diffuse -> http://localhost:8898/notebooks/paper_code/RQ6/RQ6.ipynb"
   ]
  },
  {
   "cell_type": "code",
   "execution_count": 5,
   "metadata": {},
   "outputs": [],
   "source": [
    "#解决csv没法存储list的问题\n",
    "'''\n",
    "def evalItem(data):\n",
    "    for item in data.columns:\n",
    "        #print(item)\n",
    "        data[item] = data[item].apply(lambda x : eval(x) if type(x) == str and '[' == x[0] else x)\n",
    "    return data\n",
    "conMan = pd.read_csv('/home/yfliu/paper_data/manualResultCsv/contractRes.csv')\n",
    "conAst = pd.read_csv('/home/yfliu/paper_data/astResultCsv/contractRes.csv')\n",
    "conAstBleu = pd.read_csv('/home/yfliu/paper_data/astResultCsv/contractResBleu.csv')\n",
    "funMan = pd.read_csv('/home/yfliu/paper_data/manualResultCsv/functionRes.csv')\n",
    "funAst = pd.read_csv('/home/yfliu/paper_data/astResultCsv/functionRes.csv')\n",
    "funAstBleu = pd.read_csv('/home/yfliu/paper_data/astResultCsv/functionResBleu.csv')\n",
    "evalItem(conMan).to_pickle('/home/yfliu/paper_data/manualResultCsv/contractRes.pic')\n",
    "evalItem(conAst).to_pickle('/home/yfliu/paper_data/astResultCsv/contractRes.pic')\n",
    "evalItem(conAstBleu).to_pickle('/home/yfliu/paper_data/astResultCsv/contractResBleu.pic')\n",
    "evalItem(funMan).to_pickle('/home/yfliu/paper_data/manualResultCsv/functionRes.pic')\n",
    "evalItem(funAst).to_pickle('/home/yfliu/paper_data/astResultCsv/functionRes.pic')\n",
    "evalItem(funAstBleu).to_pickle('/home/yfliu/paper_data/astResultCsv/functionResBleu.pic')'''"
   ]
  },
  {
   "cell_type": "code",
   "execution_count": null,
   "metadata": {},
   "outputs": [],
   "source": [
    "#对一个error 找到匹配对与定位位置，确定是否错误\n",
    "#手工考虑增加结果，修改手工的匹配结果\n",
    "#重新验证准确\n"
   ]
  },
  {
   "cell_type": "code",
   "execution_count": null,
   "metadata": {},
   "outputs": [],
   "source": [
    "#修改手工结果"
   ]
  },
  {
   "cell_type": "markdown",
   "metadata": {},
   "source": [
    "# 统计结果"
   ]
  },
  {
   "cell_type": "code",
   "execution_count": null,
   "metadata": {},
   "outputs": [],
   "source": [
    "#统计Arithmetic的普遍出现"
   ]
  },
  {
   "cell_type": "code",
   "execution_count": null,
   "metadata": {},
   "outputs": [],
   "source": []
  },
  {
   "cell_type": "code",
   "execution_count": 58,
   "metadata": {},
   "outputs": [],
   "source": [
    "def bugRes(name, data):\n",
    "    t = data[data[name].apply(lambda x : len(x) > 0)][name]\n",
    "    ans = {}\n",
    "    for item in t:\n",
    "        for bug in item:\n",
    "            if bug['title'] in ans.keys():\n",
    "                ans[bug['title']] += 1\n",
    "            else:\n",
    "                ans[bug['title']] = 1\n",
    "    return ans"
   ]
  },
  {
   "cell_type": "code",
   "execution_count": 72,
   "metadata": {},
   "outputs": [],
   "source": [
    "def bugResGroupBy(name, data,r):\n",
    "    t = data[data[name].apply(lambda x : len(x) > 0)][name]\n",
    "    count = 0\n",
    "    for item in t:\n",
    "        temp = 0\n",
    "        for bug in item:\n",
    "            if bug['title'] in r:\n",
    "                temp += 1\n",
    "        if temp > 0:\n",
    "            count += 1\n",
    "    return count"
   ]
  },
  {
   "cell_type": "code",
   "execution_count": 73,
   "metadata": {
    "scrolled": true
   },
   "outputs": [
    {
     "data": {
      "text/plain": [
       "56"
      ]
     },
     "execution_count": 73,
     "metadata": {},
     "output_type": "execute_result"
    }
   ],
   "source": [
    "osirisG = bugResGroupBy('osiris_analysis',conAst, ['overflow_bugs','underflow_bugs','truncation_bugs'])\n",
    "osirisG"
   ]
  },
  {
   "cell_type": "code",
   "execution_count": 74,
   "metadata": {},
   "outputs": [
    {
     "data": {
      "text/plain": [
       "48"
      ]
     },
     "execution_count": 74,
     "metadata": {},
     "output_type": "execute_result"
    }
   ],
   "source": [
    "mythrilG = bugResGroupBy('mythril_analysis_not_info',conAst, ['Integer Overflow ','Integer Underflow'])\n",
    "mythrilG"
   ]
  },
  {
   "cell_type": "code",
   "execution_count": 70,
   "metadata": {},
   "outputs": [
    {
     "data": {
      "text/plain": [
       "{3: 10, 1: 35, 2: 33, 4: 15, 6: 3, 8: 2, 11: 1, 10: 2, 9: 1, 5: 2}"
      ]
     },
     "execution_count": 70,
     "metadata": {},
     "output_type": "execute_result"
    }
   ],
   "source": [
    "mythrilG = bugResGroupBy('mythril_analysis_not_info',conAst, ['Integer Overflow ','Integer Underflow'])\n",
    "for item in mythrilG:\n",
    "    if item in ttt.keys():\n",
    "        ttt[item] += 1\n",
    "    else:\n",
    "        ttt[item] = 1\n",
    "ttt"
   ]
  },
  {
   "cell_type": "code",
   "execution_count": 60,
   "metadata": {},
   "outputs": [
    {
     "data": {
      "text/plain": [
       "{'overflow_bugs': 95,\n",
       " 'concurrency_bug': 37,\n",
       " 'time_dependency_bug': 10,\n",
       " 'underflow_bugs': 45,\n",
       " 'callstack_bug': 1,\n",
       " 'truncation_bugs': 8,\n",
       " 'reentrancy_bug': 1}"
      ]
     },
     "execution_count": 60,
     "metadata": {},
     "output_type": "execute_result"
    }
   ],
   "source": [
    "osiris = bugRes('osiris_analysis',conAst)\n",
    "osiris"
   ]
  },
  {
   "cell_type": "code",
   "execution_count": 63,
   "metadata": {},
   "outputs": [
    {
     "data": {
      "text/plain": [
       "{'Integer Overflow ': 110,\n",
       " 'Dependence on predictable environment variable': 11,\n",
       " 'Transaction order dependence': 11,\n",
       " 'Integer Underflow': 17,\n",
       " 'Message call to external contract': 9,\n",
       " 'State change after external call': 2,\n",
       " 'Ether send': 3,\n",
       " 'Unchecked SUICIDE': 1}"
      ]
     },
     "execution_count": 63,
     "metadata": {},
     "output_type": "execute_result"
    }
   ],
   "source": [
    "mythril = bugRes('mythril_analysis_not_info',conAst)\n",
    "mythril"
   ]
  },
  {
   "cell_type": "code",
   "execution_count": 62,
   "metadata": {},
   "outputs": [
    {
     "data": {
      "text/plain": [
       "{'reentrancy-no-eth': 6,\n",
       " 'reentrancy-benign': 14,\n",
       " 'uninitialized-local': 6,\n",
       " 'timestamp': 6,\n",
       " 'reentrancy-eth': 3,\n",
       " 'unused-return': 20,\n",
       " 'calls-loop': 19,\n",
       " 'arbitrary-send': 11,\n",
       " 'controlled-delegatecall': 2,\n",
       " 'suicidal': 2,\n",
       " 'locked-ether': 10,\n",
       " 'uninitialized-storage': 1}"
      ]
     },
     "execution_count": 62,
     "metadata": {},
     "output_type": "execute_result"
    }
   ],
   "source": [
    "slither = bugRes('slither_analysis_not_info',conAst)\n",
    "slither"
   ]
  },
  {
   "cell_type": "code",
   "execution_count": 61,
   "metadata": {},
   "outputs": [
    {
     "data": {
      "text/plain": [
       "Index(['index', 'sni_index', 'code_index', 'code_name', 'dealed_code',\n",
       "       'sni_name', 'contract_code', 'sni_code', 'contract_line', 'name',\n",
       "       'mythril', 'osiris', 'slither', 'osiris_analysis', 'mythril_analysis',\n",
       "       'slither_analysis', 'pattern1', 'pattern6', 'pattern2', 'pattern3',\n",
       "       'pattern4', 'pattern7', 'slither_analysis_not_info',\n",
       "       'mythril_analysis_not_info'],\n",
       "      dtype='object')"
      ]
     },
     "execution_count": 61,
     "metadata": {},
     "output_type": "execute_result"
    }
   ],
   "source": [
    "conAst.columns"
   ]
  },
  {
   "cell_type": "code",
   "execution_count": null,
   "metadata": {},
   "outputs": [],
   "source": [
    "#统计接受答案与不被接受答案"
   ]
  },
  {
   "cell_type": "code",
   "execution_count": 37,
   "metadata": {},
   "outputs": [],
   "source": []
  },
  {
   "cell_type": "code",
   "execution_count": 12,
   "metadata": {},
   "outputs": [
    {
     "data": {
      "text/plain": [
       "129"
      ]
     },
     "execution_count": 12,
     "metadata": {},
     "output_type": "execute_result"
    }
   ],
   "source": [
    "conAst = pd.read_pickle('/home/yfliu/paper_data/astResultCsv/contractRes_v2.pic')\n",
    "funAst = pd.read_pickle('/home/yfliu/paper_data/astResultCsv/functionRes_v2.pic')\n",
    "def temp(name,data):\n",
    "    return list(data[data[name].apply(lambda x : x != None and len(x) > 0)]['sni_name'])\n",
    "con = temp('slither_analysis_not_info', conAst) + temp('mythril_analysis_not_info', conAst) + temp('osiris_analysis', conAst)\n",
    "conG = temp('pattern1', conAst) + temp('pattern2', conAst) + temp('pattern3', conAst)+ temp('pattern4', conAst)+ temp('pattern6', conAst)+ temp('pattern7', conAst)\n",
    "fun = temp('slither_analysis_not_info', funAst) + temp('mythril_analysis_not_info', funAst) + temp('osiris_analysis', funAst)\n",
    "funG = temp('pattern1', funAst) + temp('pattern2', funAst) + temp('pattern3', funAst)+ temp('pattern4', funAst)+ temp('pattern6', funAst)+ temp('pattern7', funAst)\n"
   ]
  },
  {
   "cell_type": "code",
   "execution_count": 39,
   "metadata": {},
   "outputs": [
    {
     "data": {
      "text/plain": [
       "360"
      ]
     },
     "execution_count": 39,
     "metadata": {},
     "output_type": "execute_result"
    }
   ],
   "source": []
  },
  {
   "cell_type": "code",
   "execution_count": 40,
   "metadata": {},
   "outputs": [
    {
     "data": {
      "text/plain": [
       "82"
      ]
     },
     "execution_count": 40,
     "metadata": {},
     "output_type": "execute_result"
    }
   ],
   "source": []
  },
  {
   "cell_type": "code",
   "execution_count": 50,
   "metadata": {},
   "outputs": [
    {
     "name": "stdout",
     "output_type": "stream",
     "text": [
      "25 190\n",
      "161 646\n"
     ]
    }
   ],
   "source": [
    "def count(con):\n",
    "    acc = 0\n",
    "    no = 0\n",
    "    for item in con:\n",
    "        temp = item.split('-')[1].split('.')[0]\n",
    "        if temp == '1':\n",
    "            acc += 1\n",
    "        else:\n",
    "            no += 1\n",
    "    return acc,no\n",
    "print(count(con)[0],end = ' ')\n",
    "print(count(conAst['sni_name'])[0] - count(con)[0])\n",
    "print(count(con)[1],end = ' ')\n",
    "print(count(conAst['sni_name'])[1] - count(con)[1])"
   ]
  },
  {
   "cell_type": "code",
   "execution_count": 83,
   "metadata": {},
   "outputs": [
    {
     "data": {
      "text/plain": [
       "0.20930232558139536"
      ]
     },
     "execution_count": 83,
     "metadata": {},
     "output_type": "execute_result"
    }
   ],
   "source": [
    "161 /(161 + 646)"
   ]
  },
  {
   "cell_type": "code",
   "execution_count": 82,
   "metadata": {},
   "outputs": [
    {
     "data": {
      "text/plain": [
       "0.19950433705080545"
      ]
     },
     "execution_count": 82,
     "metadata": {},
     "output_type": "execute_result"
    }
   ],
   "source": [
    "161/(646+161)"
   ]
  },
  {
   "cell_type": "code",
   "execution_count": 51,
   "metadata": {},
   "outputs": [
    {
     "name": "stdout",
     "output_type": "stream",
     "text": [
      "19 78\n",
      "86 392\n"
     ]
    }
   ],
   "source": [
    "print(count(fun)[0],end = ' ')\n",
    "print(count(funAst['sni_name'])[0] - count(fun)[0])\n",
    "print(count(fun)[1],end = ' ')\n",
    "print(count(funAst['sni_name'])[1] - count(fun)[1])"
   ]
  },
  {
   "cell_type": "code",
   "execution_count": 84,
   "metadata": {},
   "outputs": [
    {
     "data": {
      "text/plain": [
       "0.1958762886597938"
      ]
     },
     "execution_count": 84,
     "metadata": {},
     "output_type": "execute_result"
    }
   ],
   "source": [
    "19 /(19+78)"
   ]
  },
  {
   "cell_type": "code",
   "execution_count": 85,
   "metadata": {},
   "outputs": [
    {
     "data": {
      "text/plain": [
       "0.1799163179916318"
      ]
     },
     "execution_count": 85,
     "metadata": {},
     "output_type": "execute_result"
    }
   ],
   "source": [
    "86/(86+392)"
   ]
  }
 ],
 "metadata": {
  "kernelspec": {
   "display_name": "Python 3",
   "language": "python",
   "name": "python3"
  },
  "language_info": {
   "codemirror_mode": {
    "name": "ipython",
    "version": 3
   },
   "file_extension": ".py",
   "mimetype": "text/x-python",
   "name": "python",
   "nbconvert_exporter": "python",
   "pygments_lexer": "ipython3",
   "version": "3.6.10"
  }
 },
 "nbformat": 4,
 "nbformat_minor": 4
}
